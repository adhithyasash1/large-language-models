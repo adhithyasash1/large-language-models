{
  "nbformat": 4,
  "nbformat_minor": 0,
  "metadata": {
    "colab": {
      "provenance": []
    },
    "kernelspec": {
      "name": "python3",
      "display_name": "Python 3"
    },
    "language_info": {
      "name": "python"
    }
  },
  "cells": [
    {
      "cell_type": "code",
      "execution_count": null,
      "metadata": {
        "id": "7u9DmDezSWti"
      },
      "outputs": [],
      "source": [
        "import torch\n",
        "import torch.nn as nn\n",
        "import torch.nn.functional as F"
      ]
    },
    {
      "cell_type": "code",
      "source": [
        "print(torch)\n",
        "print(nn)\n",
        "print(torch.autograd)\n",
        "print(F)"
      ],
      "metadata": {
        "colab": {
          "base_uri": "https://localhost:8080/"
        },
        "id": "1bQ3A9IK50mK",
        "outputId": "42d68ee8-0e25-4d9f-9a11-df56f5ebfcd3"
      },
      "execution_count": null,
      "outputs": [
        {
          "output_type": "stream",
          "name": "stdout",
          "text": [
            "<module 'torch' from '/usr/local/lib/python3.9/dist-packages/torch/__init__.py'>\n",
            "<module 'torch.nn' from '/usr/local/lib/python3.9/dist-packages/torch/nn/__init__.py'>\n",
            "<module 'torch.autograd' from '/usr/local/lib/python3.9/dist-packages/torch/autograd/__init__.py'>\n",
            "<module 'torch.nn.functional' from '/usr/local/lib/python3.9/dist-packages/torch/nn/functional.py'>\n"
          ]
        }
      ]
    },
    {
      "cell_type": "markdown",
      "source": [
        "# Base class\n",
        "\n",
        " * The **nn** module contains all the components to **conveniently** build any deep learning architecture.\n",
        " * **nn.Module** provides different type of layers (called modules in pytorch) such as `linear` layer, `convolutional` layer,..\n",
        " * All the `modules or models` that we create must subclass this `nn.Module` baseclass\n",
        "\n",
        " * They must **implement the forward** method in the subclass. The rest will be taken care by the methods defined in the base class.\n",
        "\n",
        " * I really urge you to take look at the source code of **nn.Module**\n",
        "\n",
        " * Let's try to reproduce one of the existing layers (modules) called Linear."
      ],
      "metadata": {
        "id": "xgUDUIFG8dH2"
      }
    },
    {
      "cell_type": "code",
      "source": [
        "#base Class\n",
        "print(nn.Module.__mro__)"
      ],
      "metadata": {
        "colab": {
          "base_uri": "https://localhost:8080/"
        },
        "id": "C3eo3eqV6D35",
        "outputId": "f26074ca-b9db-40d2-b3df-1dd6c1554f13"
      },
      "execution_count": null,
      "outputs": [
        {
          "output_type": "stream",
          "name": "stdout",
          "text": [
            "(<class 'torch.nn.modules.module.Module'>, <class 'object'>)\n"
          ]
        }
      ]
    },
    {
      "cell_type": "code",
      "source": [
        "class LinearLayer(nn.Module):\n",
        "\n",
        "  def __init__(self,in_features,out_features):\n",
        "    super(LinearLayer,self).__init__()\n",
        "    self.in_features = in_features\n",
        "    self.out_features = out_features\n",
        "    self.w = nn.Parameter(torch.randn(in_features, out_features))\n",
        "    self.b = nn.Parameter(torch.randn(out_features))\n",
        "\n",
        "  def forward(self,x):\n",
        "    out = torch.matmul(x,self.w)+self.b"
      ],
      "metadata": {
        "id": "KUp8gityC4Q4"
      },
      "execution_count": null,
      "outputs": []
    },
    {
      "cell_type": "markdown",
      "source": [
        "* What is new to us is the `nn.Parameter` class.\n",
        "* It is just a (subclass of) tensor with requires_grad set to True by default.\n",
        "* `torch.nn.parameter.Parameter(data=None, requires_grad=True)`\n",
        "* A method in the **base class** looks for **Parameter** in the module.If found, then it registers it to the list (in fact, dict) of parameters."
      ],
      "metadata": {
        "id": "6r2AOUEuFEON"
      }
    },
    {
      "cell_type": "code",
      "source": [
        "print(nn.Parameter)"
      ],
      "metadata": {
        "colab": {
          "base_uri": "https://localhost:8080/"
        },
        "id": "VC5887JnHJ9a",
        "outputId": "2ba99de2-8066-4e6e-9001-32edff3a15a9"
      },
      "execution_count": null,
      "outputs": [
        {
          "output_type": "stream",
          "name": "stdout",
          "text": [
            "<class 'torch.nn.parameter.Parameter'>\n"
          ]
        }
      ]
    },
    {
      "cell_type": "code",
      "source": [
        "model = LinearLayer(784,10)"
      ],
      "metadata": {
        "id": "XbLQUYJvIeDj"
      },
      "execution_count": null,
      "outputs": []
    },
    {
      "cell_type": "markdown",
      "source": [
        "Let's take a look at the attributes of the instance *model*"
      ],
      "metadata": {
        "id": "xVHP4jLVKV73"
      }
    },
    {
      "cell_type": "code",
      "source": [
        "dir(model)"
      ],
      "metadata": {
        "colab": {
          "base_uri": "https://localhost:8080/"
        },
        "id": "pktaOhkSKOre",
        "outputId": "fee67e70-54a9-4264-f066-4ee0ce5f6436"
      },
      "execution_count": null,
      "outputs": [
        {
          "output_type": "execute_result",
          "data": {
            "text/plain": [
              "['T_destination',\n",
              " '__annotations__',\n",
              " '__call__',\n",
              " '__class__',\n",
              " '__delattr__',\n",
              " '__dict__',\n",
              " '__dir__',\n",
              " '__doc__',\n",
              " '__eq__',\n",
              " '__format__',\n",
              " '__ge__',\n",
              " '__getattr__',\n",
              " '__getattribute__',\n",
              " '__gt__',\n",
              " '__hash__',\n",
              " '__init__',\n",
              " '__init_subclass__',\n",
              " '__le__',\n",
              " '__lt__',\n",
              " '__module__',\n",
              " '__ne__',\n",
              " '__new__',\n",
              " '__reduce__',\n",
              " '__reduce_ex__',\n",
              " '__repr__',\n",
              " '__setattr__',\n",
              " '__setstate__',\n",
              " '__sizeof__',\n",
              " '__str__',\n",
              " '__subclasshook__',\n",
              " '__weakref__',\n",
              " '_apply',\n",
              " '_backward_hooks',\n",
              " '_backward_pre_hooks',\n",
              " '_buffers',\n",
              " '_call_impl',\n",
              " '_forward_hooks',\n",
              " '_forward_hooks_with_kwargs',\n",
              " '_forward_pre_hooks',\n",
              " '_forward_pre_hooks_with_kwargs',\n",
              " '_get_backward_hooks',\n",
              " '_get_backward_pre_hooks',\n",
              " '_get_name',\n",
              " '_is_full_backward_hook',\n",
              " '_load_from_state_dict',\n",
              " '_load_state_dict_post_hooks',\n",
              " '_load_state_dict_pre_hooks',\n",
              " '_maybe_warn_non_full_backward_hook',\n",
              " '_modules',\n",
              " '_named_members',\n",
              " '_non_persistent_buffers_set',\n",
              " '_parameters',\n",
              " '_register_load_state_dict_pre_hook',\n",
              " '_register_state_dict_hook',\n",
              " '_replicate_for_data_parallel',\n",
              " '_save_to_state_dict',\n",
              " '_slow_forward',\n",
              " '_state_dict_hooks',\n",
              " '_state_dict_pre_hooks',\n",
              " '_version',\n",
              " 'add_module',\n",
              " 'apply',\n",
              " 'b',\n",
              " 'bfloat16',\n",
              " 'buffers',\n",
              " 'call_super_init',\n",
              " 'children',\n",
              " 'cpu',\n",
              " 'cuda',\n",
              " 'double',\n",
              " 'dump_patches',\n",
              " 'eval',\n",
              " 'extra_repr',\n",
              " 'float',\n",
              " 'forward',\n",
              " 'get_buffer',\n",
              " 'get_extra_state',\n",
              " 'get_parameter',\n",
              " 'get_submodule',\n",
              " 'half',\n",
              " 'in_features',\n",
              " 'ipu',\n",
              " 'load_state_dict',\n",
              " 'modules',\n",
              " 'named_buffers',\n",
              " 'named_children',\n",
              " 'named_modules',\n",
              " 'named_parameters',\n",
              " 'out_features',\n",
              " 'parameters',\n",
              " 'register_backward_hook',\n",
              " 'register_buffer',\n",
              " 'register_forward_hook',\n",
              " 'register_forward_pre_hook',\n",
              " 'register_full_backward_hook',\n",
              " 'register_full_backward_pre_hook',\n",
              " 'register_load_state_dict_post_hook',\n",
              " 'register_module',\n",
              " 'register_parameter',\n",
              " 'register_state_dict_pre_hook',\n",
              " 'requires_grad_',\n",
              " 'set_extra_state',\n",
              " 'share_memory',\n",
              " 'state_dict',\n",
              " 'to',\n",
              " 'to_empty',\n",
              " 'train',\n",
              " 'training',\n",
              " 'type',\n",
              " 'w',\n",
              " 'xpu',\n",
              " 'zero_grad']"
            ]
          },
          "metadata": {},
          "execution_count": 7
        }
      ]
    },
    {
      "cell_type": "markdown",
      "source": [
        "* All these attributes are derived from BaseClass.\n",
        "* Thanks to the **nn.Module** 😀 for taking the pain away from us!\n",
        "* In fact, we can see the model parameters using the `parameter `attribute. The parameter attribute is a generator object (thanks to base class once again)!"
      ],
      "metadata": {
        "id": "_HtXrrs_KhEb"
      }
    },
    {
      "cell_type": "code",
      "source": [
        "list(model.parameters())"
      ],
      "metadata": {
        "colab": {
          "base_uri": "https://localhost:8080/"
        },
        "id": "0ABrfLycKy-J",
        "outputId": "627cee41-0e53-4398-b6a2-7c953500f96c"
      },
      "execution_count": null,
      "outputs": [
        {
          "output_type": "execute_result",
          "data": {
            "text/plain": [
              "[Parameter containing:\n",
              " tensor([[ 0.5725,  1.5390,  0.6918,  ..., -0.4928,  0.2907,  0.2096],\n",
              "         [-0.6520, -0.1986, -0.0693,  ...,  0.5084, -0.5454,  1.0412],\n",
              "         [ 0.2192,  0.2972, -1.7707,  ...,  0.9102,  0.9304, -0.1628],\n",
              "         ...,\n",
              "         [ 0.2619,  0.2264,  0.6819,  ..., -0.2946,  1.2554,  0.5884],\n",
              "         [ 1.1307, -0.5247,  1.4420,  ...,  0.0906, -0.9909,  0.4353],\n",
              "         [-0.5345, -0.9411,  0.2745,  ..., -0.9702, -1.4220,  0.5816]],\n",
              "        requires_grad=True),\n",
              " Parameter containing:\n",
              " tensor([ 0.4097, -0.7602, -0.8633, -0.0432,  1.2747, -0.1017, -1.0210, -1.1500,\n",
              "          0.8332,  0.7365], requires_grad=True)]"
            ]
          },
          "metadata": {},
          "execution_count": 8
        }
      ]
    },
    {
      "cell_type": "code",
      "source": [
        "callable(model)"
      ],
      "metadata": {
        "colab": {
          "base_uri": "https://localhost:8080/"
        },
        "id": "5TT0O4KsIt-V",
        "outputId": "01b818d5-d857-4562-c865-78412fa12fe4"
      },
      "execution_count": null,
      "outputs": [
        {
          "output_type": "execute_result",
          "data": {
            "text/plain": [
              "True"
            ]
          },
          "metadata": {},
          "execution_count": 9
        }
      ]
    },
    {
      "cell_type": "code",
      "source": [
        "class foo:\n",
        "  def __initi__(self):\n",
        "    pass\n",
        "  def forward(self):\n",
        "    pass\n",
        "\n",
        "  def __call__(self):\n",
        "    pass\n",
        "\n",
        "Foo = foo()\n",
        "print(callable(Foo))"
      ],
      "metadata": {
        "colab": {
          "base_uri": "https://localhost:8080/"
        },
        "id": "mMt-hthYJDxr",
        "outputId": "fd3132c2-39df-4882-b6a6-9c73acb2a911"
      },
      "execution_count": null,
      "outputs": [
        {
          "output_type": "stream",
          "name": "stdout",
          "text": [
            "True\n"
          ]
        }
      ]
    },
    {
      "cell_type": "markdown",
      "source": [
        "* The method `__call__` is implemented in the baseclass (tons of thanks to the base class)\n",
        "* You should avoid calling `forward` method defined in any subclasses directly.\n",
        "* This is because the __call__ method in base class **checks**  a lot of things before calling **'forward'** method. This helps us catching errors or inconsistancies if any.\n",
        "* LIKE THIS WE CAN CREATE ANY LAYER WE WANT.\n",
        "* However, **nn.Module** has many common layers already  implemented for us. We can use it off-the-shelf!"
      ],
      "metadata": {
        "id": "10G9agNOJWoc"
      }
    },
    {
      "cell_type": "markdown",
      "source": [
        "# Let's Load MNIST dataset\n",
        "\n",
        "  * Most likely you already know what MNIST dataset is and therefore I am not elaborating on it any further.\n",
        "  * The input samples are not PyTorch tensors and hence we need to transform them to tensor"
      ],
      "metadata": {
        "id": "oFfSQ_dDD1jr"
      }
    },
    {
      "cell_type": "code",
      "source": [
        "from torchvision import datasets,transforms"
      ],
      "metadata": {
        "id": "B4tmTg5tD89I"
      },
      "execution_count": null,
      "outputs": []
    },
    {
      "cell_type": "code",
      "source": [
        "X = datasets.MNIST('data', train=True, download=True,transform=transforms.ToTensor())"
      ],
      "metadata": {
        "id": "Qq2B41lbFKjq"
      },
      "execution_count": null,
      "outputs": []
    },
    {
      "cell_type": "code",
      "source": [
        "print(X.classes)\n",
        "print(X.data.shape)\n",
        "print(X.targets.shape)"
      ],
      "metadata": {
        "id": "hgfR0Fe-FFm0",
        "colab": {
          "base_uri": "https://localhost:8080/"
        },
        "outputId": "bdceb8e1-0e4b-473e-e8cb-7cb45e5cd3e4"
      },
      "execution_count": null,
      "outputs": [
        {
          "output_type": "stream",
          "name": "stdout",
          "text": [
            "['0 - zero', '1 - one', '2 - two', '3 - three', '4 - four', '5 - five', '6 - six', '7 - seven', '8 - eight', '9 - nine']\n",
            "torch.Size([60000, 28, 28])\n",
            "torch.Size([60000])\n"
          ]
        }
      ]
    },
    {
      "cell_type": "code",
      "source": [
        "x_train,y_train = X.data[:1000],X.targets[:1000]\n",
        "x_train = x_train.type(torch.float32)"
      ],
      "metadata": {
        "id": "5egl2TTsMOTV"
      },
      "execution_count": null,
      "outputs": []
    },
    {
      "cell_type": "markdown",
      "source": [
        "* Normalize the input between (0 to 1) (That's how NN wants it to be ☺)\n",
        "* Now, I am just dividing it by max (but this is not a good way)"
      ],
      "metadata": {
        "id": "MYlBqPcgUm-v"
      }
    },
    {
      "cell_type": "code",
      "source": [
        "x_train = x_train/x_train.max()"
      ],
      "metadata": {
        "id": "uZA0DLDUUvdG"
      },
      "execution_count": null,
      "outputs": []
    },
    {
      "cell_type": "markdown",
      "source": [
        "# A simple Linear module (aka) Layer\n",
        "\n",
        "  * Pytorch already implemented some modules(layers) by subclassing nn.Module\n",
        "  * You can refer to the documentation to see all the available layers: https://pytorch.org/docs/stable/nn.html\n",
        "  * Let's consider one such module: Linear ($wx+b$)"
      ],
      "metadata": {
        "id": "vTPax1gEQBVl"
      }
    },
    {
      "cell_type": "code",
      "source": [
        "model = nn.Linear(in_features=784,out_features=10,bias=True)\n",
        "print(model)\n",
        "print(callable(model))"
      ],
      "metadata": {
        "colab": {
          "base_uri": "https://localhost:8080/"
        },
        "id": "_Y9-dtU6QAtw",
        "outputId": "280b945f-1157-4cb3-92f0-853ee3cebeee"
      },
      "execution_count": null,
      "outputs": [
        {
          "output_type": "stream",
          "name": "stdout",
          "text": [
            "Linear(in_features=784, out_features=10, bias=True)\n",
            "True\n"
          ]
        }
      ]
    },
    {
      "cell_type": "code",
      "source": [
        "print(issubclass(nn.Linear,nn.Module))"
      ],
      "metadata": {
        "colab": {
          "base_uri": "https://localhost:8080/"
        },
        "id": "Uc6tsyyqRDOD",
        "outputId": "b82a7992-3d32-4f52-94fd-00d067474bdc"
      },
      "execution_count": null,
      "outputs": [
        {
          "output_type": "stream",
          "name": "stdout",
          "text": [
            "True\n"
          ]
        }
      ]
    },
    {
      "cell_type": "markdown",
      "source": [
        "* Where are the parameters $w,b$?"
      ],
      "metadata": {
        "id": "XMLIeXsBSPS4"
      }
    },
    {
      "cell_type": "code",
      "source": [
        "w,b = list(model.parameters()) # we use list to iterate over generator object\n",
        "print(w,b)\n",
        "print(w.shape)\n",
        "print(b.shape)"
      ],
      "metadata": {
        "colab": {
          "base_uri": "https://localhost:8080/"
        },
        "id": "Jv6JdFbTQ8ij",
        "outputId": "73facf11-bd9f-455f-9c9a-45746c4580e3"
      },
      "execution_count": null,
      "outputs": [
        {
          "output_type": "stream",
          "name": "stdout",
          "text": [
            "Parameter containing:\n",
            "tensor([[-0.0157, -0.0274, -0.0177,  ..., -0.0167, -0.0017, -0.0321],\n",
            "        [-0.0341, -0.0236,  0.0194,  ...,  0.0284, -0.0162, -0.0221],\n",
            "        [-0.0155,  0.0035,  0.0267,  ...,  0.0341, -0.0265, -0.0256],\n",
            "        ...,\n",
            "        [ 0.0198, -0.0283,  0.0143,  ..., -0.0034, -0.0154, -0.0140],\n",
            "        [ 0.0284,  0.0064, -0.0025,  ..., -0.0084,  0.0214,  0.0302],\n",
            "        [ 0.0131, -0.0158, -0.0142,  ...,  0.0305, -0.0042,  0.0180]],\n",
            "       requires_grad=True) Parameter containing:\n",
            "tensor([-0.0331, -0.0264, -0.0258, -0.0053, -0.0001, -0.0333, -0.0325,  0.0094,\n",
            "         0.0317,  0.0169], requires_grad=True)\n",
            "torch.Size([10, 784])\n",
            "torch.Size([10])\n"
          ]
        }
      ]
    },
    {
      "cell_type": "code",
      "source": [
        "print(w.grad)\n",
        "print(torch.is_tensor(w))"
      ],
      "metadata": {
        "colab": {
          "base_uri": "https://localhost:8080/"
        },
        "id": "7UhZS5PzT-pM",
        "outputId": "1ccd824c-2016-49a4-e559-5a1147a16a7e"
      },
      "execution_count": null,
      "outputs": [
        {
          "output_type": "stream",
          "name": "stdout",
          "text": [
            "None\n",
            "True\n"
          ]
        }
      ]
    },
    {
      "cell_type": "markdown",
      "source": [
        "* Observe that both $w,b$ are leaf tensors with `requires_grad=True `\n",
        "* How do I feed an input to the model?\n",
        "* We know that the `model` is a `callable`. We can pass the input as an argument as if we are passing it to the function"
      ],
      "metadata": {
        "id": "SfNSY8frSrEb"
      }
    },
    {
      "cell_type": "code",
      "source": [
        "out = model(x_train[0].reshape(1,784))\n",
        "print(out)"
      ],
      "metadata": {
        "colab": {
          "base_uri": "https://localhost:8080/"
        },
        "id": "eCdj73epXZT4",
        "outputId": "f4c10b7e-c04e-49ab-e8de-06fa80036bb4"
      },
      "execution_count": null,
      "outputs": [
        {
          "output_type": "stream",
          "name": "stdout",
          "text": [
            "tensor([[ 0.4066, -0.2671,  0.1873,  0.0230,  0.1868,  0.1389,  0.3344,  0.0704,\n",
            "         -0.4162,  0.0721]], grad_fn=<AddmmBackward0>)\n"
          ]
        }
      ]
    },
    {
      "cell_type": "markdown",
      "source": [
        "* Though the input $x$ is a tensor with **requires_grad=False**, the output tensor `out `has **grad_fn** associated with it. Why?\n",
        "* Once again observe that the grad_fn function is `AddmmBackward`(Matrix-Multiplication-Addition). That make sense for a linear module!\n",
        "\n",
        "* Now let's make prediction using a softmax function.\n",
        "* Note that we are not using **nn** module to get softmax function"
      ],
      "metadata": {
        "id": "bhhF220k639q"
      }
    },
    {
      "cell_type": "code",
      "source": [
        "y_hat = torch.softmax(out,dim=1)\n",
        "print(y_hat)"
      ],
      "metadata": {
        "colab": {
          "base_uri": "https://localhost:8080/"
        },
        "id": "ZS0ZSUHs63ag",
        "outputId": "445163f4-c6dd-49ff-9f70-acca9c4589ed"
      },
      "execution_count": null,
      "outputs": [
        {
          "output_type": "stream",
          "name": "stdout",
          "text": [
            "tensor([[0.1358, 0.0693, 0.1091, 0.0926, 0.1090, 0.1039, 0.1264, 0.0971, 0.0597,\n",
            "         0.0972]], grad_fn=<SoftmaxBackward0>)\n"
          ]
        }
      ]
    },
    {
      "cell_type": "code",
      "source": [
        "F.softmax(out,dim=1)"
      ],
      "metadata": {
        "colab": {
          "base_uri": "https://localhost:8080/"
        },
        "id": "t6Hnbtil_E1-",
        "outputId": "c65a30b6-9fde-41e4-ed56-a9f3aab1002b"
      },
      "execution_count": null,
      "outputs": [
        {
          "output_type": "execute_result",
          "data": {
            "text/plain": [
              "tensor([[0.1098, 0.1344, 0.1105, 0.0689, 0.0995, 0.1160, 0.0696, 0.0901, 0.0870,\n",
              "         0.1143]], grad_fn=<SoftmaxBackward0>)"
            ]
          },
          "metadata": {},
          "execution_count": 21
        }
      ]
    },
    {
      "cell_type": "code",
      "source": [
        "print('Predicted:',y_hat.argmax(dim=1))\n",
        "print('GT:',y_train[0])"
      ],
      "metadata": {
        "colab": {
          "base_uri": "https://localhost:8080/"
        },
        "id": "NHxvhnpnLnVT",
        "outputId": "9f2f93b8-ec10-48b1-9c14-551278c009e9"
      },
      "execution_count": null,
      "outputs": [
        {
          "output_type": "stream",
          "name": "stdout",
          "text": [
            "Predicted: tensor([0])\n",
            "GT: tensor(5)\n"
          ]
        }
      ]
    },
    {
      "cell_type": "code",
      "source": [
        "criterion = nn.CrossEntropyLoss() # once again the variable \"criterion\" is a callable function\n",
        "loss = criterion(y_hat,y_train[0].reshape(1))\n",
        "print(loss)"
      ],
      "metadata": {
        "colab": {
          "base_uri": "https://localhost:8080/"
        },
        "id": "7EXoQmsX99ps",
        "outputId": "b213c5b4-fe07-4a98-a092-879e78ea054d"
      },
      "execution_count": null,
      "outputs": [
        {
          "output_type": "stream",
          "name": "stdout",
          "text": [
            "tensor(2.2989, grad_fn=<NllLossBackward0>)\n"
          ]
        }
      ]
    },
    {
      "cell_type": "markdown",
      "source": [
        "* You might think, whatever we did so far could have been done using the pure tensor based approach instead of using **nn.Module** and further calling `.backward()`computes the gradients.\n",
        "* You are right!. Remind you, **nn.Module** does exactly the same under the hood. It simply **takes aways lots of boilerplate codes** and also provides lots of **error checking** to avoid errors when our code becomes complex."
      ],
      "metadata": {
        "id": "f4ofuJTD_aVh"
      }
    },
    {
      "cell_type": "markdown",
      "source": [
        "## Optimizer\n",
        "\n",
        "   * There are a variety of optimization algorithms which subclasses using `torch.optim.Optimizer` baseclass\n",
        "   * All optimization algorithms take **model.parameters()** (which is an iterable) and learning rate as arguments.\n",
        "   * Before calling` .backward` method, we have to initiate the optimizer by passing the model parameters."
      ],
      "metadata": {
        "id": "XQElVhQANjWd"
      }
    },
    {
      "cell_type": "code",
      "source": [
        "import torch.optim as optim"
      ],
      "metadata": {
        "id": "Sp7q-XFdNpjN"
      },
      "execution_count": null,
      "outputs": []
    },
    {
      "cell_type": "code",
      "source": [
        "print(optim)"
      ],
      "metadata": {
        "colab": {
          "base_uri": "https://localhost:8080/"
        },
        "id": "BBekr64qOm7M",
        "outputId": "258adb78-2cc2-4655-83c9-3c5a8306f81b"
      },
      "execution_count": null,
      "outputs": [
        {
          "output_type": "stream",
          "name": "stdout",
          "text": [
            "<module 'torch.optim' from '/usr/local/lib/python3.9/dist-packages/torch/optim/__init__.py'>\n"
          ]
        }
      ]
    },
    {
      "cell_type": "code",
      "source": [
        "optimizer = optim.SGD(model.parameters(), lr=0.1)"
      ],
      "metadata": {
        "id": "P_l5va9DNzy-"
      },
      "execution_count": null,
      "outputs": []
    },
    {
      "cell_type": "code",
      "source": [
        "dir(optimizer)"
      ],
      "metadata": {
        "colab": {
          "base_uri": "https://localhost:8080/"
        },
        "id": "9ausshIkOt2s",
        "outputId": "1bc2d96d-f4c3-438e-9566-62d49f1bb740"
      },
      "execution_count": null,
      "outputs": [
        {
          "output_type": "execute_result",
          "data": {
            "text/plain": [
              "['__class__',\n",
              " '__delattr__',\n",
              " '__dict__',\n",
              " '__dir__',\n",
              " '__doc__',\n",
              " '__eq__',\n",
              " '__format__',\n",
              " '__ge__',\n",
              " '__getattribute__',\n",
              " '__getstate__',\n",
              " '__gt__',\n",
              " '__hash__',\n",
              " '__init__',\n",
              " '__init_subclass__',\n",
              " '__le__',\n",
              " '__lt__',\n",
              " '__module__',\n",
              " '__ne__',\n",
              " '__new__',\n",
              " '__reduce__',\n",
              " '__reduce_ex__',\n",
              " '__repr__',\n",
              " '__setattr__',\n",
              " '__setstate__',\n",
              " '__sizeof__',\n",
              " '__str__',\n",
              " '__subclasshook__',\n",
              " '__weakref__',\n",
              " '_cuda_graph_capture_health_check',\n",
              " '_init_group',\n",
              " '_optimizer_step_code',\n",
              " '_optimizer_step_post_hooks',\n",
              " '_optimizer_step_pre_hooks',\n",
              " '_patch_step_function',\n",
              " '_warned_capturable_if_run_uncaptured',\n",
              " '_zero_grad_profile_name',\n",
              " 'add_param_group',\n",
              " 'defaults',\n",
              " 'load_state_dict',\n",
              " 'param_groups',\n",
              " 'profile_hook_step',\n",
              " 'register_step_post_hook',\n",
              " 'register_step_pre_hook',\n",
              " 'state',\n",
              " 'state_dict',\n",
              " 'step',\n",
              " 'zero_grad']"
            ]
          },
          "metadata": {},
          "execution_count": 27
        }
      ]
    },
    {
      "cell_type": "markdown",
      "source": [
        "##Parameter update"
      ],
      "metadata": {
        "id": "wo5nxw4tP-N9"
      }
    },
    {
      "cell_type": "markdown",
      "source": [
        "Step-1: call `.backward` to compute gradients and accumulate it at the leaf tensors"
      ],
      "metadata": {
        "id": "m4x64dYGPq2Z"
      }
    },
    {
      "cell_type": "code",
      "source": [
        "loss.backward()"
      ],
      "metadata": {
        "id": "ZAnl-a4WPo_d"
      },
      "execution_count": null,
      "outputs": []
    },
    {
      "cell_type": "code",
      "source": [
        "import numpy as np\n",
        "from matplotlib import pyplot as plt\n",
        "grad = np.array(w.grad.detach())\n",
        "print(grad.shape)"
      ],
      "metadata": {
        "colab": {
          "base_uri": "https://localhost:8080/"
        },
        "id": "iYMJgOh2QTOv",
        "outputId": "6a3878ab-831e-43f3-e0f6-c5e4841a6209"
      },
      "execution_count": null,
      "outputs": [
        {
          "output_type": "stream",
          "name": "stdout",
          "text": [
            "(10, 784)\n"
          ]
        }
      ]
    },
    {
      "cell_type": "markdown",
      "source": [
        "Now, just visualize the gradient computed for the weights connected to a neuron in the layer."
      ],
      "metadata": {
        "id": "3A4wRtooRu9d"
      }
    },
    {
      "cell_type": "code",
      "source": [
        "weights = w.detach().numpy()\n",
        "plt.imshow(weights[1,:].reshape(28,28),cmap='gray')\n",
        "print(weights[1,:].reshape(28,28)[10,10])\n",
        "plt.colorbar()\n",
        "plt.show()"
      ],
      "metadata": {
        "colab": {
          "base_uri": "https://localhost:8080/",
          "height": 448
        },
        "id": "eSw8dKEQODfY",
        "outputId": "af567896-381c-45fc-8622-be5295c1b13d"
      },
      "execution_count": null,
      "outputs": [
        {
          "output_type": "stream",
          "name": "stdout",
          "text": [
            "0.027614258\n"
          ]
        },
        {
          "output_type": "display_data",
          "data": {
            "text/plain": [
              "<Figure size 640x480 with 2 Axes>"
            ],
            "image/png": "[encoded data removed]"
          },
          "metadata": {}
        }
      ]
    },
    {
      "cell_type": "code",
      "source": [
        "plt.imshow(grad[1,:].reshape(28,28),cmap='gray')\n",
        "print(grad[1,:].reshape(28,28)[10,10])\n",
        "plt.colorbar()\n",
        "plt.show()"
      ],
      "metadata": {
        "colab": {
          "base_uri": "https://localhost:8080/",
          "height": 448
        },
        "id": "vTRqT4lURuBm",
        "outputId": "36d05eaf-2a99-46b7-a126-a3bd399d3b71"
      },
      "execution_count": null,
      "outputs": [
        {
          "output_type": "stream",
          "name": "stdout",
          "text": [
            "2.7266731e-05\n"
          ]
        },
        {
          "output_type": "display_data",
          "data": {
            "text/plain": [
              "<Figure size 640x480 with 2 Axes>"
            ],
            "image/png": "[encoded data removed]"
          },
          "metadata": {}
        }
      ]
    },
    {
      "cell_type": "markdown",
      "source": [
        "step-2: Use the accumulated gradients to make an update"
      ],
      "metadata": {
        "id": "F7boQ9p5QCPu"
      }
    },
    {
      "cell_type": "code",
      "source": [
        "optimizer.step()"
      ],
      "metadata": {
        "id": "8scJrvKWQIxe"
      },
      "execution_count": null,
      "outputs": []
    },
    {
      "cell_type": "code",
      "source": [
        "weights = w.detach().numpy()\n",
        "plt.imshow(weights[1,:].reshape(28,28),cmap='gray')\n",
        "print(weights[1,:].reshape(28,28)[10,10])\n",
        "plt.colorbar()\n",
        "plt.show()"
      ],
      "metadata": {
        "colab": {
          "base_uri": "https://localhost:8080/",
          "height": 448
        },
        "id": "xzgumVlkOqaw",
        "outputId": "4fdfb079-18bc-47b7-b15f-d2345d8a386a"
      },
      "execution_count": null,
      "outputs": [
        {
          "output_type": "stream",
          "name": "stdout",
          "text": [
            "0.027611531\n"
          ]
        },
        {
          "output_type": "display_data",
          "data": {
            "text/plain": [
              "<Figure size 640x480 with 2 Axes>"
            ],
            "image/png": "[encoded data removed]"
          },
          "metadata": {}
        }
      ]
    },
    {
      "cell_type": "markdown",
      "source": [
        "step-3: Set the accumulated gradients to zero"
      ],
      "metadata": {
        "id": "OnczqUNQShqF"
      }
    },
    {
      "cell_type": "code",
      "source": [
        "optimizer.zero_grad()"
      ],
      "metadata": {
        "id": "w8JeAop3SKkG"
      },
      "execution_count": null,
      "outputs": []
    },
    {
      "cell_type": "markdown",
      "source": [
        "# Let's build a two layer NN\n",
        "\n",
        " * Get the data\n",
        " * Create the DL architecture using nn.Module (using nested modules(layers) is allowed).\n",
        " * pass the `model.parameters()` to optimizer\n",
        " * Compute loss and call `loss.backward()` (it computes grad and accumulates it at the leaf nodes)\n",
        " * Call `optimizer.step()` to update parameters\n",
        " * Zero the accumulated gradients at the lead nodes using `optim.zero_grad()`"
      ],
      "metadata": {
        "id": "WkCtnFIMRmmo"
      }
    },
    {
      "cell_type": "markdown",
      "source": [
        "* There are two approaches to build NN. If the number of layers are small then we can make use of `nn.Sequential()` and keep adding layers (modules) as follows\n",
        "\n",
        "* Note that, `nn.Sigmoid(),nn.Softmax()` are subclasses of` nn.Module`. They also use` torch.sigmoid()`,`torch.softmax()` in the forward method defined in the subclass"
      ],
      "metadata": {
        "id": "xrCT_JXA34WZ"
      }
    },
    {
      "cell_type": "code",
      "source": [
        "model = nn.Sequential(nn.Linear(28 * 28, 20),nn.Sigmoid(),nn.Linear(20, 10),nn.Sigmoid(),nn.Softmax())"
      ],
      "metadata": {
        "id": "yexCBzBN4F3R"
      },
      "execution_count": null,
      "outputs": []
    },
    {
      "cell_type": "code",
      "source": [
        "print(model)"
      ],
      "metadata": {
        "colab": {
          "base_uri": "https://localhost:8080/"
        },
        "id": "PP2S3V1Z40aQ",
        "outputId": "2e7b0b85-a166-46a9-ba58-977c432de0a0"
      },
      "execution_count": null,
      "outputs": [
        {
          "output_type": "stream",
          "name": "stdout",
          "text": [
            "Sequential(\n",
            "  (0): Linear(in_features=784, out_features=20, bias=True)\n",
            "  (1): Sigmoid()\n",
            "  (2): Linear(in_features=20, out_features=10, bias=True)\n",
            "  (3): Sigmoid()\n",
            "  (4): Softmax(dim=None)\n",
            ")\n"
          ]
        }
      ]
    },
    {
      "cell_type": "code",
      "source": [
        "print(model.parameters())"
      ],
      "metadata": {
        "colab": {
          "base_uri": "https://localhost:8080/"
        },
        "id": "E4c16quL421X",
        "outputId": "2b186aec-4a6e-48dd-ac6c-283f3f0408ca"
      },
      "execution_count": null,
      "outputs": [
        {
          "output_type": "stream",
          "name": "stdout",
          "text": [
            "<generator object Module.parameters at 0x7f6313fe3eb0>\n"
          ]
        }
      ]
    },
    {
      "cell_type": "markdown",
      "source": [
        "* The other (clean) way  of defining the model is subclassing `nn.Module `and nest the layers in the init method\n",
        "\n",
        "* It is exactly like creating a class object. I mean you can define the init method to arguments if required. In such a case, we pass the constructor arguments during instantiation of the object."
      ],
      "metadata": {
        "id": "7ARMLrQd5Ubp"
      }
    },
    {
      "cell_type": "code",
      "source": [
        "class FFN(nn.Module):\n",
        "\n",
        "  def __init__(self):\n",
        "    # All the stateful variables go here\n",
        "    super(FFN, self).__init__()\n",
        "    self.a1 = nn.Linear(28 * 28, 20)\n",
        "    self.a2 = nn.Linear(20, 10)\n",
        "\n",
        "  def forward(self,x):\n",
        "    h1 = torch.sigmoid(self.a1(x.reshape(1,784)))\n",
        "    h2 = torch.sigmoid(self.a2(h1))\n",
        "    y_hat = F.softmax(h2,dim=1)\n",
        "\n",
        "    return y_hat\n",
        "\n"
      ],
      "metadata": {
        "id": "xFS9NpwHg9yb"
      },
      "execution_count": null,
      "outputs": []
    },
    {
      "cell_type": "code",
      "source": [
        "epochs = 100\n",
        "model = FFN() # one time assignment\n",
        "optimizer = optim.SGD(model.parameters(),lr=0.01) # intializing optimizer with parameters"
      ],
      "metadata": {
        "id": "AxJff0dqRrHN"
      },
      "execution_count": null,
      "outputs": []
    },
    {
      "cell_type": "code",
      "source": [
        "w1,b1,w2,b2 = list(model.parameters())\n",
        "weights = w1.detach().numpy()\n",
        "plt.imshow(weights[1,:].reshape(28,28),cmap='gray')\n",
        "plt.colorbar()\n",
        "plt.show()"
      ],
      "metadata": {
        "colab": {
          "base_uri": "https://localhost:8080/",
          "height": 430
        },
        "id": "BaIgnj8hvwpi",
        "outputId": "a17310d7-eb5e-464a-9d2e-683ba31d3997"
      },
      "execution_count": null,
      "outputs": [
        {
          "output_type": "display_data",
          "data": {
            "text/plain": [
              "<Figure size 640x480 with 2 Axes>"
            ],
            "image/png": "[encoded data removed]"
          },
          "metadata": {}
        }
      ]
    },
    {
      "cell_type": "code",
      "source": [
        "def train(x_train,model,optimizer):\n",
        "  loss_trace = []\n",
        "  for epoch in range(epochs):\n",
        "    # Forward prop all training samples and accumulate gradients\n",
        "    for i in range(len(x_train)):\n",
        "      out = model(x_train[i])\n",
        "      criterion = nn.CrossEntropyLoss()\n",
        "      loss = criterion(out,y_train[i].reshape(1))\n",
        "      loss.backward()\n",
        "    loss_trace.append(loss.detach().item())\n",
        "    print(f'Epoch:{epoch}, loss:{loss.detach().item()}')\n",
        "    #update parameters\n",
        "    optimizer.step()\n",
        "    optimizer.zero_grad\n",
        "  return loss_trace"
      ],
      "metadata": {
        "id": "OimOwYYhvqAI"
      },
      "execution_count": null,
      "outputs": []
    },
    {
      "cell_type": "code",
      "source": [
        "loss_trace = train(x_train,model,optimizer)"
      ],
      "metadata": {
        "colab": {
          "base_uri": "https://localhost:8080/"
        },
        "id": "_rYVDQs73BXn",
        "outputId": "78b6e5cd-0569-49cb-f040-c5f17ea54bac"
      },
      "execution_count": null,
      "outputs": [
        {
          "output_type": "stream",
          "name": "stdout",
          "text": [
            "Epoch:0, loss:2.2995896339416504\n",
            "Epoch:1, loss:2.2997188568115234\n",
            "Epoch:2, loss:2.299983024597168\n",
            "Epoch:3, loss:2.3003907203674316\n",
            "Epoch:4, loss:2.300947666168213\n",
            "Epoch:5, loss:2.301645517349243\n",
            "Epoch:6, loss:2.3024520874023438\n",
            "Epoch:7, loss:2.303295373916626\n",
            "Epoch:8, loss:2.3040578365325928\n",
            "Epoch:9, loss:2.3045709133148193\n",
            "Epoch:10, loss:2.3046226501464844\n",
            "Epoch:11, loss:2.3039674758911133\n",
            "Epoch:12, loss:2.302342653274536\n",
            "Epoch:13, loss:2.299494981765747\n",
            "Epoch:14, loss:2.2952258586883545\n",
            "Epoch:15, loss:2.2894601821899414\n",
            "Epoch:16, loss:2.2823145389556885\n",
            "Epoch:17, loss:2.274127960205078\n",
            "Epoch:18, loss:2.2653908729553223\n",
            "Epoch:19, loss:2.2565691471099854\n",
            "Epoch:20, loss:2.247943639755249\n",
            "Epoch:21, loss:2.239598035812378\n",
            "Epoch:22, loss:2.2315526008605957\n",
            "Epoch:23, loss:2.223904609680176\n",
            "Epoch:24, loss:2.216843366622925\n",
            "Epoch:25, loss:2.2105588912963867\n",
            "Epoch:26, loss:2.2051637172698975\n",
            "Epoch:27, loss:2.2006518840789795\n",
            "Epoch:28, loss:2.1968846321105957\n",
            "Epoch:29, loss:2.193680763244629\n",
            "Epoch:30, loss:2.1909730434417725\n",
            "Epoch:31, loss:2.1888322830200195\n",
            "Epoch:32, loss:2.1873326301574707\n",
            "Epoch:33, loss:2.1864418983459473\n",
            "Epoch:34, loss:2.186023712158203\n",
            "Epoch:35, loss:2.1858835220336914\n",
            "Epoch:36, loss:2.185804605484009\n",
            "Epoch:37, loss:2.1855924129486084\n",
            "Epoch:38, loss:2.1851181983947754\n",
            "Epoch:39, loss:2.1843583583831787\n",
            "Epoch:40, loss:2.1834053993225098\n",
            "Epoch:41, loss:2.182403326034546\n",
            "Epoch:42, loss:2.181436061859131\n",
            "Epoch:43, loss:2.1804823875427246\n",
            "Epoch:44, loss:2.1794848442077637\n",
            "Epoch:45, loss:2.178422689437866\n",
            "Epoch:46, loss:2.17732572555542\n",
            "Epoch:47, loss:2.1762535572052\n",
            "Epoch:48, loss:2.1752686500549316\n",
            "Epoch:49, loss:2.174417734146118\n",
            "Epoch:50, loss:2.1737236976623535\n",
            "Epoch:51, loss:2.1731839179992676\n",
            "Epoch:52, loss:2.1727774143218994\n",
            "Epoch:53, loss:2.1724770069122314\n",
            "Epoch:54, loss:2.1722562313079834\n",
            "Epoch:55, loss:2.1720943450927734\n",
            "Epoch:56, loss:2.17197585105896\n",
            "Epoch:57, loss:2.171888589859009\n",
            "Epoch:58, loss:2.1718249320983887\n",
            "Epoch:59, loss:2.1717782020568848\n",
            "Epoch:60, loss:2.1717445850372314\n",
            "Epoch:61, loss:2.1717207431793213\n",
            "Epoch:62, loss:2.1717047691345215\n",
            "Epoch:63, loss:2.1716959476470947\n",
            "Epoch:64, loss:2.1716933250427246\n",
            "Epoch:65, loss:2.171696901321411\n",
            "Epoch:66, loss:2.1717045307159424\n",
            "Epoch:67, loss:2.171712875366211\n",
            "Epoch:68, loss:2.171717405319214\n",
            "Epoch:69, loss:2.1717164516448975\n",
            "Epoch:70, loss:2.171710729598999\n",
            "Epoch:71, loss:2.1717021465301514\n",
            "Epoch:72, loss:2.1716928482055664\n",
            "Epoch:73, loss:2.1716837882995605\n",
            "Epoch:74, loss:2.1716763973236084\n",
            "Epoch:75, loss:2.171670436859131\n",
            "Epoch:76, loss:2.171666145324707\n",
            "Epoch:77, loss:2.1716628074645996\n",
            "Epoch:78, loss:2.1716604232788086\n",
            "Epoch:79, loss:2.171658992767334\n",
            "Epoch:80, loss:2.1716573238372803\n",
            "Epoch:81, loss:2.1716561317443848\n",
            "Epoch:82, loss:2.171654462814331\n",
            "Epoch:83, loss:2.1716527938842773\n",
            "Epoch:84, loss:2.1716508865356445\n",
            "Epoch:85, loss:2.171649217605591\n",
            "Epoch:86, loss:2.171647071838379\n",
            "Epoch:87, loss:2.171645164489746\n",
            "Epoch:88, loss:2.1716432571411133\n",
            "Epoch:89, loss:2.1716415882110596\n",
            "Epoch:90, loss:2.1716396808624268\n",
            "Epoch:91, loss:2.171638250350952\n",
            "Epoch:92, loss:2.1716368198394775\n",
            "Epoch:93, loss:2.171635389328003\n",
            "Epoch:94, loss:2.1716341972351074\n",
            "Epoch:95, loss:2.171633005142212\n",
            "Epoch:96, loss:2.1716320514678955\n",
            "Epoch:97, loss:2.171630859375\n",
            "Epoch:98, loss:2.1716299057006836\n",
            "Epoch:99, loss:2.171628952026367\n"
          ]
        }
      ]
    },
    {
      "cell_type": "code",
      "source": [
        "from matplotlib import pyplot as plt\n",
        "plt.plot(loss_trace)\n",
        "plt.show()"
      ],
      "metadata": {
        "colab": {
          "base_uri": "https://localhost:8080/",
          "height": 265
        },
        "id": "XSPmzQVcjX6h",
        "outputId": "ae4160b2-83e9-483c-afea-47dde74227d2"
      },
      "execution_count": null,
      "outputs": [
        {
          "output_type": "display_data",
          "data": {
            "text/plain": [
              "<Figure size 432x288 with 1 Axes>"
            ],
            "image/png": "[encoded data removed]"
          },
          "metadata": {
            "needs_background": "light"
          }
        }
      ]
    },
    {
      "cell_type": "code",
      "source": [
        "w1,b1,w2,b2 = list(model.parameters())\n",
        "weights = w1.detach().numpy()\n",
        "plt.imshow(weights[3,:].reshape(28,28),cmap='gray')\n",
        "plt.colorbar()\n",
        "plt.show()"
      ],
      "metadata": {
        "colab": {
          "base_uri": "https://localhost:8080/",
          "height": 433
        },
        "id": "lPnx-TWWvVpI",
        "outputId": "91431c4a-e1cb-4480-86e0-4cb4a62d0702"
      },
      "execution_count": null,
      "outputs": [
        {
          "output_type": "display_data",
          "data": {
            "text/plain": [
              "<Figure size 640x480 with 2 Axes>"
            ],
            "image/png": "[encoded data removed]"
          },
          "metadata": {}
        }
      ]
    },
    {
      "cell_type": "markdown",
      "source": [
        "* For training, we could have used **batch of samples** instead of one sample at a time and also we didn't shuffle the samples.\n",
        "* We could write functions to acheive it.\n",
        "* However, pytorch provides utils for these routine tasks."
      ],
      "metadata": {
        "id": "0w67caUUwjq4"
      }
    }
  ]
}