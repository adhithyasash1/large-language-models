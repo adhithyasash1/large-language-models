{
  "nbformat": 4,
  "nbformat_minor": 0,
  "metadata": {
    "colab": {
      "provenance": [],
      "collapsed_sections": [
        "hdKopIVVtzKx",
        "OFnTb-YGtudi",
        "4wTjUVQRaoqI",
        "z8-18UlZ2ES7",
        "sSHVHX4J40eS"
      ]
    },
    "kernelspec": {
      "name": "python3",
      "display_name": "Python 3"
    },
    "language_info": {
      "name": "python"
    }
  },
  "cells": [
    {
      "cell_type": "markdown",
      "source": [
        "In this assignment, you will be implementing a GPT model and train it using CLM objective.\n",
        " * If you get stuck at something or need more clarrifications, you may refer to : https://github.com/karpathy/minGPT/blob/master/mingpt/model.py\n",
        "\n",
        " * We will be using ReLU activation function instead of GELU.\n",
        "\n",
        " * As usual, let us install the required libraries\n",
        "\n",
        " * **Note** that if you are not getting the exact loss values as mentioned in this notebook, that is absolutely fine. Just see whether your implementation overfits the given toy-and-tiny paragraph!"
      ],
      "metadata": {
        "id": "lYT5NXV-2eXr"
      }
    },
    {
      "cell_type": "markdown",
      "source": [
        "# Installation\n"
      ],
      "metadata": {
        "id": "hdKopIVVtzKx"
      }
    },
    {
      "cell_type": "code",
      "source": [
        "!pip install torchdata==0.6.0 # to be compatible with torch 2.0\n",
        "!pip install portalocker==2.0.0"
      ],
      "metadata": {
        "id": "HF0ap-B02CW7",
        "colab": {
          "base_uri": "https://localhost:8080/",
          "height": 1000
        },
        "outputId": "7663d6c0-0fc0-49ea-a26f-088d12d039a1"
      },
      "execution_count": 78,
      "outputs": [
        {
          "output_type": "stream",
          "name": "stdout",
          "text": [
            "Collecting torchdata==0.6.0\n",
            "  Downloading torchdata-0.6.0-cp310-cp310-manylinux_2_17_x86_64.manylinux2014_x86_64.whl (4.6 MB)\n",
            "\u001b[2K     \u001b[90m━━━━━━━━━━━━━━━━━━━━━━━━━━━━━━━━━━━━━━━━\u001b[0m \u001b[32m4.6/4.6 MB\u001b[0m \u001b[31m5.8 MB/s\u001b[0m eta \u001b[36m0:00:00\u001b[0m\n",
            "\u001b[?25hRequirement already satisfied: urllib3>=1.25 in /usr/local/lib/python3.10/dist-packages (from torchdata==0.6.0) (2.0.7)\n",
            "Requirement already satisfied: requests in /usr/local/lib/python3.10/dist-packages (from torchdata==0.6.0) (2.31.0)\n",
            "Collecting torch==2.0.0 (from torchdata==0.6.0)\n",
            "  Downloading torch-2.0.0-cp310-cp310-manylinux1_x86_64.whl (619.9 MB)\n",
            "\u001b[2K     \u001b[90m━━━━━━━━━━━━━━━━━━━━━━━━━━━━━━━━━━━━━━━━\u001b[0m \u001b[32m619.9/619.9 MB\u001b[0m \u001b[31m1.9 MB/s\u001b[0m eta \u001b[36m0:00:00\u001b[0m\n",
            "\u001b[?25hRequirement already satisfied: filelock in /usr/local/lib/python3.10/dist-packages (from torch==2.0.0->torchdata==0.6.0) (3.13.1)\n",
            "Requirement already satisfied: typing-extensions in /usr/local/lib/python3.10/dist-packages (from torch==2.0.0->torchdata==0.6.0) (4.10.0)\n",
            "Requirement already satisfied: sympy in /usr/local/lib/python3.10/dist-packages (from torch==2.0.0->torchdata==0.6.0) (1.12)\n",
            "Requirement already satisfied: networkx in /usr/local/lib/python3.10/dist-packages (from torch==2.0.0->torchdata==0.6.0) (3.2.1)\n",
            "Requirement already satisfied: jinja2 in /usr/local/lib/python3.10/dist-packages (from torch==2.0.0->torchdata==0.6.0) (3.1.3)\n",
            "Collecting nvidia-cuda-nvrtc-cu11==11.7.99 (from torch==2.0.0->torchdata==0.6.0)\n",
            "  Downloading nvidia_cuda_nvrtc_cu11-11.7.99-2-py3-none-manylinux1_x86_64.whl (21.0 MB)\n",
            "\u001b[2K     \u001b[90m━━━━━━━━━━━━━━━━━━━━━━━━━━━━━━━━━━━━━━━━\u001b[0m \u001b[32m21.0/21.0 MB\u001b[0m \u001b[31m55.6 MB/s\u001b[0m eta \u001b[36m0:00:00\u001b[0m\n",
            "\u001b[?25hCollecting nvidia-cuda-runtime-cu11==11.7.99 (from torch==2.0.0->torchdata==0.6.0)\n",
            "  Downloading nvidia_cuda_runtime_cu11-11.7.99-py3-none-manylinux1_x86_64.whl (849 kB)\n",
            "\u001b[2K     \u001b[90m━━━━━━━━━━━━━━━━━━━━━━━━━━━━━━━━━━━━━━━━\u001b[0m \u001b[32m849.3/849.3 kB\u001b[0m \u001b[31m37.2 MB/s\u001b[0m eta \u001b[36m0:00:00\u001b[0m\n",
            "\u001b[?25hCollecting nvidia-cuda-cupti-cu11==11.7.101 (from torch==2.0.0->torchdata==0.6.0)\n",
            "  Downloading nvidia_cuda_cupti_cu11-11.7.101-py3-none-manylinux1_x86_64.whl (11.8 MB)\n",
            "\u001b[2K     \u001b[90m━━━━━━━━━━━━━━━━━━━━━━━━━━━━━━━━━━━━━━━━\u001b[0m \u001b[32m11.8/11.8 MB\u001b[0m \u001b[31m80.1 MB/s\u001b[0m eta \u001b[36m0:00:00\u001b[0m\n",
            "\u001b[?25hCollecting nvidia-cudnn-cu11==8.5.0.96 (from torch==2.0.0->torchdata==0.6.0)\n",
            "  Downloading nvidia_cudnn_cu11-8.5.0.96-2-py3-none-manylinux1_x86_64.whl (557.1 MB)\n",
            "\u001b[2K     \u001b[90m━━━━━━━━━━━━━━━━━━━━━━━━━━━━━━━━━━━━━━━━\u001b[0m \u001b[32m557.1/557.1 MB\u001b[0m \u001b[31m1.8 MB/s\u001b[0m eta \u001b[36m0:00:00\u001b[0m\n",
            "\u001b[?25hCollecting nvidia-cublas-cu11==11.10.3.66 (from torch==2.0.0->torchdata==0.6.0)\n",
            "  Downloading nvidia_cublas_cu11-11.10.3.66-py3-none-manylinux1_x86_64.whl (317.1 MB)\n",
            "\u001b[2K     \u001b[90m━━━━━━━━━━━━━━━━━━━━━━━━━━━━━━━━━━━━━━━━\u001b[0m \u001b[32m317.1/317.1 MB\u001b[0m \u001b[31m4.2 MB/s\u001b[0m eta \u001b[36m0:00:00\u001b[0m\n",
            "\u001b[?25hCollecting nvidia-cufft-cu11==10.9.0.58 (from torch==2.0.0->torchdata==0.6.0)\n",
            "  Downloading nvidia_cufft_cu11-10.9.0.58-py3-none-manylinux1_x86_64.whl (168.4 MB)\n",
            "\u001b[2K     \u001b[90m━━━━━━━━━━━━━━━━━━━━━━━━━━━━━━━━━━━━━━━━\u001b[0m \u001b[32m168.4/168.4 MB\u001b[0m \u001b[31m6.9 MB/s\u001b[0m eta \u001b[36m0:00:00\u001b[0m\n",
            "\u001b[?25hCollecting nvidia-curand-cu11==10.2.10.91 (from torch==2.0.0->torchdata==0.6.0)\n",
            "  Downloading nvidia_curand_cu11-10.2.10.91-py3-none-manylinux1_x86_64.whl (54.6 MB)\n",
            "\u001b[2K     \u001b[90m━━━━━━━━━━━━━━━━━━━━━━━━━━━━━━━━━━━━━━━━\u001b[0m \u001b[32m54.6/54.6 MB\u001b[0m \u001b[31m11.2 MB/s\u001b[0m eta \u001b[36m0:00:00\u001b[0m\n",
            "\u001b[?25hCollecting nvidia-cusolver-cu11==11.4.0.1 (from torch==2.0.0->torchdata==0.6.0)\n",
            "  Downloading nvidia_cusolver_cu11-11.4.0.1-2-py3-none-manylinux1_x86_64.whl (102.6 MB)\n",
            "\u001b[2K     \u001b[90m━━━━━━━━━━━━━━━━━━━━━━━━━━━━━━━━━━━━━━━━\u001b[0m \u001b[32m102.6/102.6 MB\u001b[0m \u001b[31m9.2 MB/s\u001b[0m eta \u001b[36m0:00:00\u001b[0m\n",
            "\u001b[?25hCollecting nvidia-cusparse-cu11==11.7.4.91 (from torch==2.0.0->torchdata==0.6.0)\n",
            "  Downloading nvidia_cusparse_cu11-11.7.4.91-py3-none-manylinux1_x86_64.whl (173.2 MB)\n",
            "\u001b[2K     \u001b[90m━━━━━━━━━━━━━━━━━━━━━━━━━━━━━━━━━━━━━━━━\u001b[0m \u001b[32m173.2/173.2 MB\u001b[0m \u001b[31m3.3 MB/s\u001b[0m eta \u001b[36m0:00:00\u001b[0m\n",
            "\u001b[?25hCollecting nvidia-nccl-cu11==2.14.3 (from torch==2.0.0->torchdata==0.6.0)\n",
            "  Downloading nvidia_nccl_cu11-2.14.3-py3-none-manylinux1_x86_64.whl (177.1 MB)\n",
            "\u001b[2K     \u001b[90m━━━━━━━━━━━━━━━━━━━━━━━━━━━━━━━━━━━━━━━━\u001b[0m \u001b[32m177.1/177.1 MB\u001b[0m \u001b[31m6.0 MB/s\u001b[0m eta \u001b[36m0:00:00\u001b[0m\n",
            "\u001b[?25hCollecting nvidia-nvtx-cu11==11.7.91 (from torch==2.0.0->torchdata==0.6.0)\n",
            "  Downloading nvidia_nvtx_cu11-11.7.91-py3-none-manylinux1_x86_64.whl (98 kB)\n",
            "\u001b[2K     \u001b[90m━━━━━━━━━━━━━━━━━━━━━━━━━━━━━━━━━━━━━━━━\u001b[0m \u001b[32m98.6/98.6 kB\u001b[0m \u001b[31m10.7 MB/s\u001b[0m eta \u001b[36m0:00:00\u001b[0m\n",
            "\u001b[?25hCollecting triton==2.0.0 (from torch==2.0.0->torchdata==0.6.0)\n",
            "  Downloading triton-2.0.0-1-cp310-cp310-manylinux2014_x86_64.manylinux_2_17_x86_64.whl (63.3 MB)\n",
            "\u001b[2K     \u001b[90m━━━━━━━━━━━━━━━━━━━━━━━━━━━━━━━━━━━━━━━━\u001b[0m \u001b[32m63.3/63.3 MB\u001b[0m \u001b[31m8.5 MB/s\u001b[0m eta \u001b[36m0:00:00\u001b[0m\n",
            "\u001b[?25hRequirement already satisfied: setuptools in /usr/local/lib/python3.10/dist-packages (from nvidia-cublas-cu11==11.10.3.66->torch==2.0.0->torchdata==0.6.0) (67.7.2)\n",
            "Requirement already satisfied: wheel in /usr/local/lib/python3.10/dist-packages (from nvidia-cublas-cu11==11.10.3.66->torch==2.0.0->torchdata==0.6.0) (0.43.0)\n",
            "Requirement already satisfied: cmake in /usr/local/lib/python3.10/dist-packages (from triton==2.0.0->torch==2.0.0->torchdata==0.6.0) (3.27.9)\n",
            "Collecting lit (from triton==2.0.0->torch==2.0.0->torchdata==0.6.0)\n",
            "  Downloading lit-18.1.1.tar.gz (161 kB)\n",
            "\u001b[2K     \u001b[90m━━━━━━━━━━━━━━━━━━━━━━━━━━━━━━━━━━━━━━━━\u001b[0m \u001b[32m161.1/161.1 kB\u001b[0m \u001b[31m18.9 MB/s\u001b[0m eta \u001b[36m0:00:00\u001b[0m\n",
            "\u001b[?25h  Installing build dependencies ... \u001b[?25l\u001b[?25hdone\n",
            "  Getting requirements to build wheel ... \u001b[?25l\u001b[?25hdone\n",
            "  Installing backend dependencies ... \u001b[?25l\u001b[?25hdone\n",
            "  Preparing metadata (pyproject.toml) ... \u001b[?25l\u001b[?25hdone\n",
            "Requirement already satisfied: charset-normalizer<4,>=2 in /usr/local/lib/python3.10/dist-packages (from requests->torchdata==0.6.0) (3.3.2)\n",
            "Requirement already satisfied: idna<4,>=2.5 in /usr/local/lib/python3.10/dist-packages (from requests->torchdata==0.6.0) (3.6)\n",
            "Requirement already satisfied: certifi>=2017.4.17 in /usr/local/lib/python3.10/dist-packages (from requests->torchdata==0.6.0) (2024.2.2)\n",
            "Requirement already satisfied: MarkupSafe>=2.0 in /usr/local/lib/python3.10/dist-packages (from jinja2->torch==2.0.0->torchdata==0.6.0) (2.1.5)\n",
            "Requirement already satisfied: mpmath>=0.19 in /usr/local/lib/python3.10/dist-packages (from sympy->torch==2.0.0->torchdata==0.6.0) (1.3.0)\n",
            "Building wheels for collected packages: lit\n",
            "  Building wheel for lit (pyproject.toml) ... \u001b[?25l\u001b[?25hdone\n",
            "  Created wheel for lit: filename=lit-18.1.1-py3-none-any.whl size=96363 sha256=1b52981db0ed875434b6ee6258665490039dc1704d60a3de10718611b134bd6f\n",
            "  Stored in directory: /root/.cache/pip/wheels/1d/74/6b/88e95944e9f9078f1dc1c0f634a542efb4d26ecae6000ca8cf\n",
            "Successfully built lit\n",
            "Installing collected packages: lit, nvidia-nvtx-cu11, nvidia-nccl-cu11, nvidia-cusparse-cu11, nvidia-curand-cu11, nvidia-cufft-cu11, nvidia-cuda-runtime-cu11, nvidia-cuda-nvrtc-cu11, nvidia-cuda-cupti-cu11, nvidia-cublas-cu11, nvidia-cusolver-cu11, nvidia-cudnn-cu11, triton, torch, torchdata\n",
            "  Attempting uninstall: triton\n",
            "    Found existing installation: triton 2.2.0\n",
            "    Uninstalling triton-2.2.0:\n",
            "      Successfully uninstalled triton-2.2.0\n",
            "  Attempting uninstall: torch\n",
            "    Found existing installation: torch 2.2.1+cu121\n",
            "    Uninstalling torch-2.2.1+cu121:\n",
            "      Successfully uninstalled torch-2.2.1+cu121\n",
            "  Attempting uninstall: torchdata\n",
            "    Found existing installation: torchdata 0.7.1\n",
            "    Uninstalling torchdata-0.7.1:\n",
            "      Successfully uninstalled torchdata-0.7.1\n",
            "\u001b[31mERROR: pip's dependency resolver does not currently take into account all the packages that are installed. This behaviour is the source of the following dependency conflicts.\n",
            "torchaudio 2.2.1+cu121 requires torch==2.2.1, but you have torch 2.0.0 which is incompatible.\n",
            "torchtext 0.17.1 requires torch==2.2.1, but you have torch 2.0.0 which is incompatible.\n",
            "torchtext 0.17.1 requires torchdata==0.7.1, but you have torchdata 0.6.0 which is incompatible.\n",
            "torchvision 0.17.1+cu121 requires torch==2.2.1, but you have torch 2.0.0 which is incompatible.\u001b[0m\u001b[31m\n",
            "\u001b[0mSuccessfully installed lit-18.1.1 nvidia-cublas-cu11-11.10.3.66 nvidia-cuda-cupti-cu11-11.7.101 nvidia-cuda-nvrtc-cu11-11.7.99 nvidia-cuda-runtime-cu11-11.7.99 nvidia-cudnn-cu11-8.5.0.96 nvidia-cufft-cu11-10.9.0.58 nvidia-curand-cu11-10.2.10.91 nvidia-cusolver-cu11-11.4.0.1 nvidia-cusparse-cu11-11.7.4.91 nvidia-nccl-cu11-2.14.3 nvidia-nvtx-cu11-11.7.91 torch-2.0.0 torchdata-0.6.0 triton-2.0.0\n"
          ]
        },
        {
          "output_type": "display_data",
          "data": {
            "application/vnd.colab-display-data+json": {
              "pip_warning": {
                "packages": [
                  "torch",
                  "torchdata",
                  "torchgen"
                ]
              },
              "id": "94f3a1da80c141a79d198b4bbcfcde66"
            }
          },
          "metadata": {}
        },
        {
          "output_type": "stream",
          "name": "stdout",
          "text": [
            "Collecting portalocker==2.0.0\n",
            "  Downloading portalocker-2.0.0-py2.py3-none-any.whl (11 kB)\n",
            "Installing collected packages: portalocker\n",
            "Successfully installed portalocker-2.0.0\n"
          ]
        }
      ]
    },
    {
      "cell_type": "markdown",
      "source": [
        "* See [here](https://github.com/pytorch/text) for compatability"
      ],
      "metadata": {
        "id": "37SOAt7OE8pW"
      }
    },
    {
      "cell_type": "code",
      "source": [
        "!pip install -U torchtext==0.15.1"
      ],
      "metadata": {
        "id": "amMg7VeGEnui",
        "colab": {
          "base_uri": "https://localhost:8080/",
          "height": 857
        },
        "outputId": "9a84d304-8396-45b5-ee32-3fea051e3c3e"
      },
      "execution_count": 79,
      "outputs": [
        {
          "output_type": "stream",
          "name": "stdout",
          "text": [
            "Collecting torchtext==0.15.1\n",
            "  Downloading torchtext-0.15.1-cp310-cp310-manylinux1_x86_64.whl (2.0 MB)\n",
            "\u001b[2K     \u001b[90m━━━━━━━━━━━━━━━━━━━━━━━━━━━━━━━━━━━━━━━━\u001b[0m \u001b[32m2.0/2.0 MB\u001b[0m \u001b[31m9.4 MB/s\u001b[0m eta \u001b[36m0:00:00\u001b[0m\n",
            "\u001b[?25hRequirement already satisfied: tqdm in /usr/local/lib/python3.10/dist-packages (from torchtext==0.15.1) (4.66.2)\n",
            "Requirement already satisfied: requests in /usr/local/lib/python3.10/dist-packages (from torchtext==0.15.1) (2.31.0)\n",
            "Requirement already satisfied: torch==2.0.0 in /usr/local/lib/python3.10/dist-packages (from torchtext==0.15.1) (2.0.0)\n",
            "Requirement already satisfied: numpy in /usr/local/lib/python3.10/dist-packages (from torchtext==0.15.1) (1.25.2)\n",
            "Requirement already satisfied: torchdata==0.6.0 in /usr/local/lib/python3.10/dist-packages (from torchtext==0.15.1) (0.6.0)\n",
            "Requirement already satisfied: filelock in /usr/local/lib/python3.10/dist-packages (from torch==2.0.0->torchtext==0.15.1) (3.13.1)\n",
            "Requirement already satisfied: typing-extensions in /usr/local/lib/python3.10/dist-packages (from torch==2.0.0->torchtext==0.15.1) (4.10.0)\n",
            "Requirement already satisfied: sympy in /usr/local/lib/python3.10/dist-packages (from torch==2.0.0->torchtext==0.15.1) (1.12)\n",
            "Requirement already satisfied: networkx in /usr/local/lib/python3.10/dist-packages (from torch==2.0.0->torchtext==0.15.1) (3.2.1)\n",
            "Requirement already satisfied: jinja2 in /usr/local/lib/python3.10/dist-packages (from torch==2.0.0->torchtext==0.15.1) (3.1.3)\n",
            "Requirement already satisfied: nvidia-cuda-nvrtc-cu11==11.7.99 in /usr/local/lib/python3.10/dist-packages (from torch==2.0.0->torchtext==0.15.1) (11.7.99)\n",
            "Requirement already satisfied: nvidia-cuda-runtime-cu11==11.7.99 in /usr/local/lib/python3.10/dist-packages (from torch==2.0.0->torchtext==0.15.1) (11.7.99)\n",
            "Requirement already satisfied: nvidia-cuda-cupti-cu11==11.7.101 in /usr/local/lib/python3.10/dist-packages (from torch==2.0.0->torchtext==0.15.1) (11.7.101)\n",
            "Requirement already satisfied: nvidia-cudnn-cu11==8.5.0.96 in /usr/local/lib/python3.10/dist-packages (from torch==2.0.0->torchtext==0.15.1) (8.5.0.96)\n",
            "Requirement already satisfied: nvidia-cublas-cu11==11.10.3.66 in /usr/local/lib/python3.10/dist-packages (from torch==2.0.0->torchtext==0.15.1) (11.10.3.66)\n",
            "Requirement already satisfied: nvidia-cufft-cu11==10.9.0.58 in /usr/local/lib/python3.10/dist-packages (from torch==2.0.0->torchtext==0.15.1) (10.9.0.58)\n",
            "Requirement already satisfied: nvidia-curand-cu11==10.2.10.91 in /usr/local/lib/python3.10/dist-packages (from torch==2.0.0->torchtext==0.15.1) (10.2.10.91)\n",
            "Requirement already satisfied: nvidia-cusolver-cu11==11.4.0.1 in /usr/local/lib/python3.10/dist-packages (from torch==2.0.0->torchtext==0.15.1) (11.4.0.1)\n",
            "Requirement already satisfied: nvidia-cusparse-cu11==11.7.4.91 in /usr/local/lib/python3.10/dist-packages (from torch==2.0.0->torchtext==0.15.1) (11.7.4.91)\n",
            "Requirement already satisfied: nvidia-nccl-cu11==2.14.3 in /usr/local/lib/python3.10/dist-packages (from torch==2.0.0->torchtext==0.15.1) (2.14.3)\n",
            "Requirement already satisfied: nvidia-nvtx-cu11==11.7.91 in /usr/local/lib/python3.10/dist-packages (from torch==2.0.0->torchtext==0.15.1) (11.7.91)\n",
            "Requirement already satisfied: triton==2.0.0 in /usr/local/lib/python3.10/dist-packages (from torch==2.0.0->torchtext==0.15.1) (2.0.0)\n",
            "Requirement already satisfied: urllib3>=1.25 in /usr/local/lib/python3.10/dist-packages (from torchdata==0.6.0->torchtext==0.15.1) (2.0.7)\n",
            "Requirement already satisfied: setuptools in /usr/local/lib/python3.10/dist-packages (from nvidia-cublas-cu11==11.10.3.66->torch==2.0.0->torchtext==0.15.1) (67.7.2)\n",
            "Requirement already satisfied: wheel in /usr/local/lib/python3.10/dist-packages (from nvidia-cublas-cu11==11.10.3.66->torch==2.0.0->torchtext==0.15.1) (0.43.0)\n",
            "Requirement already satisfied: cmake in /usr/local/lib/python3.10/dist-packages (from triton==2.0.0->torch==2.0.0->torchtext==0.15.1) (3.27.9)\n",
            "Requirement already satisfied: lit in /usr/local/lib/python3.10/dist-packages (from triton==2.0.0->torch==2.0.0->torchtext==0.15.1) (18.1.1)\n",
            "Requirement already satisfied: charset-normalizer<4,>=2 in /usr/local/lib/python3.10/dist-packages (from requests->torchtext==0.15.1) (3.3.2)\n",
            "Requirement already satisfied: idna<4,>=2.5 in /usr/local/lib/python3.10/dist-packages (from requests->torchtext==0.15.1) (3.6)\n",
            "Requirement already satisfied: certifi>=2017.4.17 in /usr/local/lib/python3.10/dist-packages (from requests->torchtext==0.15.1) (2024.2.2)\n",
            "Requirement already satisfied: MarkupSafe>=2.0 in /usr/local/lib/python3.10/dist-packages (from jinja2->torch==2.0.0->torchtext==0.15.1) (2.1.5)\n",
            "Requirement already satisfied: mpmath>=0.19 in /usr/local/lib/python3.10/dist-packages (from sympy->torch==2.0.0->torchtext==0.15.1) (1.3.0)\n",
            "Installing collected packages: torchtext\n",
            "  Attempting uninstall: torchtext\n",
            "    Found existing installation: torchtext 0.17.1\n",
            "    Uninstalling torchtext-0.17.1:\n",
            "      Successfully uninstalled torchtext-0.17.1\n",
            "Successfully installed torchtext-0.15.1\n"
          ]
        },
        {
          "output_type": "display_data",
          "data": {
            "application/vnd.colab-display-data+json": {
              "pip_warning": {
                "packages": [
                  "torchtext"
                ]
              },
              "id": "65c52cb52d4b41efbfe48a7cc8a4c5b5"
            }
          },
          "metadata": {}
        }
      ]
    },
    {
      "cell_type": "markdown",
      "source": [
        "# Imports"
      ],
      "metadata": {
        "id": "OFnTb-YGtudi"
      }
    },
    {
      "cell_type": "code",
      "execution_count": 1,
      "metadata": {
        "id": "NCbW1AUlZsoO"
      },
      "outputs": [],
      "source": [
        "import torch\n",
        "from torch import Tensor\n",
        "\n",
        "import torch.nn as nn\n",
        "from torch.nn import Parameter\n",
        "import torch.nn.functional as F\n",
        "from torch.nn.functional import one_hot\n",
        "\n",
        "import torch.optim as optim\n",
        "\n",
        "#text lib\n",
        "import torchtext\n",
        "\n",
        "# tokenizer\n",
        "from torchtext.data.utils import get_tokenizer\n",
        "\n",
        "#build vocabulary\n",
        "from torchtext.vocab import vocab\n",
        "from torchtext.vocab import build_vocab_from_iterator\n",
        "\n",
        "# get input_ids (numericalization)\n",
        "from torchtext.transforms import VocabTransform\n",
        "\n",
        "# get embeddings\n",
        "from torch.nn import Embedding\n",
        "\n",
        "from  pprint import pprint\n",
        "from yaml import safe_load\n",
        "import copy\n",
        "import numpy as np\n",
        "import math"
      ]
    },
    {
      "cell_type": "code",
      "source": [
        "import nltk\n",
        "nltk.download('punkt')"
      ],
      "metadata": {
        "id": "IjjPjidG6kr1",
        "colab": {
          "base_uri": "https://localhost:8080/"
        },
        "outputId": "8bbaa354-dfed-40c3-c1e7-b76d80d45a52"
      },
      "execution_count": 2,
      "outputs": [
        {
          "output_type": "stream",
          "name": "stderr",
          "text": [
            "[nltk_data] Downloading package punkt to /root/nltk_data...\n",
            "[nltk_data]   Package punkt is already up-to-date!\n"
          ]
        },
        {
          "output_type": "execute_result",
          "data": {
            "text/plain": [
              "True"
            ]
          },
          "metadata": {},
          "execution_count": 2
        }
      ]
    },
    {
      "cell_type": "markdown",
      "source": [
        "# Load the dataset for LM modeling\n",
        "\n",
        " * We use a simple tokenizer and put"
      ],
      "metadata": {
        "id": "4wTjUVQRaoqI"
      }
    },
    {
      "cell_type": "code",
      "source": [
        "batch_size = 10"
      ],
      "metadata": {
        "id": "-aWB84SAN00b"
      },
      "execution_count": 3,
      "outputs": []
    },
    {
      "cell_type": "code",
      "source": [
        "class Tokenizer(object):\n",
        "\n",
        "  def __init__(self,text):\n",
        "    self.text = text\n",
        "    self.word_tokenizer = get_tokenizer(tokenizer=\"basic_english\",language='en')\n",
        "    self.vocab_size = None\n",
        "\n",
        "  def get_tokens(self):\n",
        "    for sentence in self.text.strip().split('\\n'):\n",
        "      yield self.word_tokenizer(sentence)\n",
        "\n",
        "  def build_vocab(self):\n",
        "    v = build_vocab_from_iterator(self.get_tokens(),\n",
        "                                  min_freq=1,specials=['<unk>','<start>','<end>'])\n",
        "    v.set_default_index(v['<unk>']) # index of OOV\n",
        "    self.vocab_size = len(v)\n",
        "    return v\n",
        "\n",
        "  def token_ids(self):\n",
        "    v = self.build_vocab()\n",
        "    vt = VocabTransform(v)\n",
        "    num_tokens = len(self.word_tokenizer(self.text))\n",
        "    max_seq_len = np.ceil(num_tokens/batch_size)\n",
        "    data = torch.zeros(size=(1,num_tokens))\n",
        "    data = vt(self.word_tokenizer(self.text))\n",
        "    data = torch.tensor(data,dtype=torch.int64)\n",
        "    return data.reshape(batch_size,torch.tensor(max_seq_len,dtype=torch.int64))"
      ],
      "metadata": {
        "id": "EBzIVx8u5VQU"
      },
      "execution_count": 4,
      "outputs": []
    },
    {
      "cell_type": "code",
      "source": [
        "text = \"\"\"Best known for the invention of Error Correcting Codes, he was a true polymath who applied his mathematical and problem-solving skills to numerous disciplines.\n",
        "Reflecting on the significant benefits I received from Hamming, I decided to develop a tribute to his legacy. There has not been a previous biography of Hamming, and the few articles about him restate known facts and assumptions and leave us with open questions.\n",
        "One thought drove me as I developed this legacy project: An individual's legacy is more than a list of their attempts and accomplishments. Their tribute should also reveal the succeeding generations they inspired and enabled and what each attempted and achieved.\n",
        "This book is a unique genre containing my version of a biography that intertwines the story \"of a life\" and a multi-player memoir with particular events and turning points recalled by those, including me, who he inspired and enabled.\n",
        "Five years of research uncovered the people, places, opportunities, events, and influences that shaped Hamming. I discovered unpublished information, stories, photographs, videos, and personal remembrances to chronicle his life, which helped me put Hamming's\n",
        "legacy in the context I wanted.The result demonstrates many exceptional qualities, including his noble pursuit of excellence and helping others. Hamming paid attention to the details, his writings continue to influence, and his guidance is a timeless gift to the world.\n",
        "This biography is part of \"\"\""
      ],
      "metadata": {
        "id": "FE1L07Z-AoNz"
      },
      "execution_count": 5,
      "outputs": []
    },
    {
      "cell_type": "code",
      "source": [
        "Tk = Tokenizer(text)"
      ],
      "metadata": {
        "id": "-OD9gBdaBHs1"
      },
      "execution_count": 6,
      "outputs": []
    },
    {
      "cell_type": "code",
      "source": [
        "x_raw = Tk.token_ids()\n",
        "print(x_raw.shape)"
      ],
      "metadata": {
        "colab": {
          "base_uri": "https://localhost:8080/"
        },
        "id": "VTz7eGsSFK24",
        "outputId": "1eecba06-6531-425c-80b6-a21db0211a8e"
      },
      "execution_count": 7,
      "outputs": [
        {
          "output_type": "stream",
          "name": "stdout",
          "text": [
            "torch.Size([10, 26])\n"
          ]
        }
      ]
    },
    {
      "cell_type": "code",
      "source": [
        "# let us display the first 10 tokens of the vocabulary\n",
        "v = Tk.build_vocab()\n",
        "pprint(v.vocab.get_itos()[0:10])"
      ],
      "metadata": {
        "colab": {
          "base_uri": "https://localhost:8080/"
        },
        "id": "ToL6j7ECOEIC",
        "outputId": "2ede8809-1720-4a8d-9fae-67365ea16108"
      },
      "execution_count": 8,
      "outputs": [
        {
          "output_type": "stream",
          "name": "stdout",
          "text": [
            "['<unk>', '<start>', '<end>', ',', 'and', '.', 'the', 'a', 'of', 'to']\n"
          ]
        }
      ]
    },
    {
      "cell_type": "markdown",
      "source": [
        "* Create the input_ids and Labels from the raw input sequence"
      ],
      "metadata": {
        "id": "Gs00A32ieNJp"
      }
    },
    {
      "cell_type": "code",
      "source": [
        "bs,raw_seq_len = x_raw.shape\n",
        "x = torch.empty(size=(bs,raw_seq_len+2),dtype=torch.int64)\n",
        "x[:,1:-1] =x_raw\n",
        "\n",
        "# insert the index of special tokens\n",
        "x[:,0] = torch.full(size=(1,batch_size),fill_value=v.vocab.get_stoi()['<start>'])\n",
        "x[:,-1] = torch.full(size=(1,batch_size),fill_value=v.vocab.get_stoi()['<end>'])\n",
        "\n",
        "#Quickly check implem\n",
        "v = Tk.build_vocab()\n",
        "words = []\n",
        "for idx in x[0,:]:\n",
        "  words.append(v.vocab.get_itos()[idx.item()])\n",
        "print(' '.join(words))"
      ],
      "metadata": {
        "colab": {
          "base_uri": "https://localhost:8080/"
        },
        "id": "4dCg4PYfaXhP",
        "outputId": "27cdf59f-eac5-490a-8c39-149a2bbec24b"
      },
      "execution_count": 9,
      "outputs": [
        {
          "output_type": "stream",
          "name": "stdout",
          "text": [
            "<start> best known for the invention of error correcting codes , he was a true polymath who applied his mathematical and problem-solving skills to numerous disciplines . <end>\n"
          ]
        }
      ]
    },
    {
      "cell_type": "code",
      "source": [
        "# labels are just the input_ids shifted by right\n",
        "bs,seq_len = x.shape\n",
        "y = torch.empty(size=(bs,seq_len),dtype=torch.int64)\n",
        "y[:,0:-1] = copy.deepcopy(x[:,1:])\n",
        "\n",
        "#ignore the index of padded tokens while computing loss\n",
        "y[:,-1] = torch.full(size=(1,batch_size),fill_value=-100)"
      ],
      "metadata": {
        "id": "A-Y0R3FSfEex"
      },
      "execution_count": 10,
      "outputs": []
    },
    {
      "cell_type": "markdown",
      "source": [
        "# Configuration"
      ],
      "metadata": {
        "id": "z8-18UlZ2ES7"
      }
    },
    {
      "cell_type": "code",
      "source": [
        "vocab_size = Tk.vocab_size\n",
        "seq_len = x.shape[1]\n",
        "embed_dim = 32\n",
        "dmodel = embed_dim\n",
        "dq = torch.tensor(4)\n",
        "dk = torch.tensor(4)\n",
        "dv = torch.tensor(4)\n",
        "heads = torch.tensor(8)\n",
        "d_ff = 4*dmodel"
      ],
      "metadata": {
        "id": "2kgKn1Emakah"
      },
      "execution_count": 11,
      "outputs": []
    },
    {
      "cell_type": "markdown",
      "source": [
        "* Define all the sub-layers (mhma,ffn) in the transformer blocks\n",
        "* Seed for $W_Q,W_K,W_V,W_O$, 43, 44 and 45, 46, respectively\n",
        "* Seed for ffn $W_1,W_2$,  47 and 48. There are no biases\n",
        "* Seed for output layer 49"
      ],
      "metadata": {
        "id": "oyQlw_Q9OLFT"
      }
    },
    {
      "cell_type": "code",
      "source": [
        "class MHMA(nn.Module):\n",
        "\n",
        "    def __init__(self, dmodel, dq, dk, dv, heads, mask = None):\n",
        "        super(MHMA, self).__init__()\n",
        "        self.heads = heads\n",
        "        self.dq = dq\n",
        "        self.dk = dk\n",
        "        self.dv = dv\n",
        "        self.dmodel = dmodel\n",
        "        self.mask = mask\n",
        "        self.dropout = nn.Dropout(p = 0.1)\n",
        "\n",
        "        self.WQ = nn.Parameter(self.init_param(heads * dq, dmodel, seed = 43))\n",
        "        self.WK = nn.Parameter(self.init_param(heads * dk, dmodel, seed = 44))\n",
        "        self.WV = nn.Parameter(self.init_param(heads * dv, dmodel, seed = 45))\n",
        "        self.WO = nn.Parameter(self.init_param(dmodel, heads * dv, seed = 46))\n",
        "        self.scaling_factor = math.sqrt(dk)\n",
        "\n",
        "    def init_param(self, *size, seed):\n",
        "        torch.manual_seed(seed)\n",
        "        return torch.randn(size)\n",
        "\n",
        "    def forward(self, x, mask=None):\n",
        "        BS, T, _ = x.shape\n",
        "        Q = torch.matmul(x, self.WQ.T).view(BS, T, self.heads, -1).transpose(1, 2)\n",
        "        K = torch.matmul(x, self.WK.T).view(BS, T, self.heads, -1).transpose(1, 2)\n",
        "        V = torch.matmul(x, self.WV.T).view(BS, T, self.heads, -1).transpose(1, 2)\n",
        "\n",
        "        attention_scores = torch.matmul(Q, K.transpose(-2, -1)) / self.scaling_factor\n",
        "\n",
        "        if mask is None:\n",
        "            mask = torch.triu(torch.ones((T, T), device = x.device, dtype = torch.bool), diagonal = 1)\n",
        "            mask = mask[None, None, :, :].expand(BS, self.heads, T, T)\n",
        "            attention_scores = attention_scores.masked_fill(mask, float('-inf'))\n",
        "        else :\n",
        "            attention_scores = attention_scores + mask\n",
        "\n",
        "        attention = F.softmax(attention_scores, dim=-1)\n",
        "        # attention = self.dropout(attention)\n",
        "\n",
        "        out = torch.matmul(attention, V).transpose(1, 2).contiguous().view(BS, T, -1)\n",
        "        out = torch.matmul(out, self.WO.T)\n",
        "        return out\n",
        "\n",
        "\n",
        "class FFN(nn.Module):\n",
        "\n",
        "    def __init__(self, dmodel, d_ff):\n",
        "        super(FFN, self).__init__()\n",
        "        torch.manual_seed(47)\n",
        "        self.linear1 = nn.Linear(dmodel, d_ff)\n",
        "        self.dropout = nn.Dropout(p = 0.1)\n",
        "        torch.manual_seed(48)\n",
        "        self.linear2 = nn.Linear(d_ff, dmodel)\n",
        "\n",
        "        self._reset_parameters()\n",
        "\n",
        "    def _reset_parameters(self):\n",
        "        nn.init.kaiming_normal_(self.linear1.weight, mode = 'fan_out', nonlinearity = 'relu')\n",
        "        nn.init.zeros_(self.linear1.bias)\n",
        "        nn.init.kaiming_normal_(self.linear2.weight, mode = 'fan_out', nonlinearity = 'relu')\n",
        "        nn.init.zeros_(self.linear2.bias)\n",
        "\n",
        "    def forward(self, x):\n",
        "        '''\n",
        "        Input  : Size [BS, T, dmodel]\n",
        "        Output : Size [BS, T, dmodel]\n",
        "        '''\n",
        "        x = self.linear1(x)\n",
        "        x = F.relu(x)\n",
        "        # x = self.dropout(x)\n",
        "        out = self.linear2(x)\n",
        "        return out\n",
        "\n",
        "\n",
        "class PredictionHead(nn.Module):\n",
        "\n",
        "    def __init__(self, dmodel, vocab_size):\n",
        "        super(PredictionHead, self).__init__()\n",
        "        torch.manual_seed(49)\n",
        "        self.linear = nn.Linear(dmodel, vocab_size)\n",
        "        self.dropout = nn.Dropout(p = 0.1)\n",
        "        self._reset_parameters()\n",
        "\n",
        "    def _reset_parameters(self):\n",
        "        nn.init.normal_(self.linear.weight, std = 0.02)\n",
        "        nn.init.zeros_(self.linear.bias)\n",
        "\n",
        "    def forward(self, representations):\n",
        "        '''\n",
        "        Input  :  Size  [BS, T, dmodel]\n",
        "        Output :  Size  [BS, T, vocab_size]\n",
        "        Note   : Do not apply the softmax. Just return the output of linear transformation\n",
        "        '''\n",
        "        out = self.linear(representations)\n",
        "        # out = self.dropout(out)\n",
        "        return out\n",
        "\n",
        "\n",
        "class PositionalEncoding(nn.Module):\n",
        "\n",
        "    def __init__(self, d_model, max_len = 500):\n",
        "        super(PositionalEncoding, self).__init__()\n",
        "        pe = torch.zeros(max_len, d_model)\n",
        "        position = torch.arange(0, max_len, dtype = torch.float).unsqueeze(1)\n",
        "        div_term = torch.exp(torch.arange(0, d_model, 2).float() * (-math.log(10000.0) / d_model))\n",
        "\n",
        "        pe[:, 0::2] = torch.sin(position * div_term)\n",
        "        pe[:, 1::2] = torch.cos(position * div_term)\n",
        "\n",
        "        pe = pe.unsqueeze(0)\n",
        "        self.register_buffer('pe', pe)\n",
        "\n",
        "    def forward(self, x):\n",
        "        \"\"\"\n",
        "        x: Tensor, shape [batch_size, seq_len, embedding_dim]\n",
        "        \"\"\"\n",
        "        x = x + self.pe[:, :x.size(1)]\n",
        "        return x"
      ],
      "metadata": {
        "id": "Eg589leczupJ"
      },
      "execution_count": 12,
      "outputs": []
    },
    {
      "cell_type": "code",
      "source": [
        "class DecoderLayer(nn.Module):\n",
        "\n",
        "  def __init__(self, dmodel, dq, dk, dv, d_ff, heads, mask = None):\n",
        "      super(DecoderLayer, self).__init__()\n",
        "      self.mhma = MHMA(dmodel, dq, dk, dv, heads, mask = mask)\n",
        "      self.layer_norm_1 = torch.nn.LayerNorm(dmodel)\n",
        "      self.layer_norm_2 = torch.nn.LayerNorm(dmodel)\n",
        "      self.ffn = FFN(dmodel, d_ff)\n",
        "\n",
        "  def forward(self, dec_rep):\n",
        "      norm_mhma_in = self.layer_norm_1(dec_rep)\n",
        "      mhma_out = self.mhma(norm_mhma_in) + dec_rep\n",
        "\n",
        "      norm_ffn_in = self.layer_norm_2(mhma_out)\n",
        "      ffn_out = self.ffn(norm_ffn_in) + mhma_out\n",
        "\n",
        "      return ffn_out"
      ],
      "metadata": {
        "id": "-Z_eWhYUz4rQ"
      },
      "execution_count": 13,
      "outputs": []
    },
    {
      "cell_type": "code",
      "source": [
        "class Embed(nn.Module):\n",
        "\n",
        "    def __init__(self, vocab_size, embed_dim):\n",
        "        super(Embed, self).__init__()\n",
        "        torch.manual_seed(70)\n",
        "        self.embed = nn.Embedding(vocab_size, embed_dim)\n",
        "        self.pe = PositionalEncoding(embed_dim)\n",
        "        self.dropout = nn.Dropout(p = 0.1)\n",
        "\n",
        "    def forward(self, x):\n",
        "        out = self.embed(x)\n",
        "        out = self.pe(out)  # Applying positional encodings after embedding\n",
        "        out = self.dropout(out)\n",
        "        return out"
      ],
      "metadata": {
        "id": "MuaoeZtd0htC"
      },
      "execution_count": 14,
      "outputs": []
    },
    {
      "cell_type": "code",
      "source": [
        "class Decoder(nn.Module):\n",
        "\n",
        "    def __init__(self, vocab_size, dmodel, dq, dk, dv, d_ff, heads, mask, num_layers = 1):\n",
        "        super(Decoder,self).__init__()\n",
        "        self.embed_lookup = Embed(vocab_size, embed_dim)\n",
        "        self.dec_layers = nn.ModuleList(copy.deepcopy(DecoderLayer(dmodel, dq, dk, dv, d_ff, heads, mask)) for i in range(num_layers))\n",
        "        self.predict = PredictionHead(dmodel, vocab_size)\n",
        "\n",
        "    def forward(self,input_ids):\n",
        "        out = self.embed_lookup(input_ids)\n",
        "        for dec_layer in self.dec_layers:\n",
        "          out = dec_layer(out)\n",
        "        out = self.predict(out)\n",
        "\n",
        "        return out"
      ],
      "metadata": {
        "id": "2yma_Vbc0k9n"
      },
      "execution_count": 15,
      "outputs": []
    },
    {
      "cell_type": "code",
      "source": [
        "model = Decoder(vocab_size, dmodel, dq, dk, dv, d_ff, heads, mask = None)"
      ],
      "metadata": {
        "id": "M62_C8zS06ya"
      },
      "execution_count": 16,
      "outputs": []
    },
    {
      "cell_type": "code",
      "source": [
        "criterion = nn.CrossEntropyLoss()\n",
        "optimizer = optim.Adam(model.parameters(), lr=0.001)\n",
        "#optimizer = optim.SGD(model.parameters(), lr = 0.01)"
      ],
      "metadata": {
        "id": "n4y0aNcr2j1e"
      },
      "execution_count": 17,
      "outputs": []
    },
    {
      "cell_type": "code",
      "source": [
        "def train(input_ids, labels, epochs = 1000):\n",
        "  model.train()\n",
        "  for epoch in range(epochs):\n",
        "    optimizer.zero_grad()\n",
        "    out = model(input_ids)\n",
        "    loss = criterion(out.transpose(1, 2), labels)\n",
        "    loss.backward()\n",
        "    optimizer.step()\n",
        "    if epoch % 100 == 0:\n",
        "      print(f\"Epoch: {epoch}, Loss: {loss.item()}\")"
      ],
      "metadata": {
        "id": "6uhXU0ae2rxU"
      },
      "execution_count": 18,
      "outputs": []
    },
    {
      "cell_type": "code",
      "source": [
        "# run the model for 10K epochs\n",
        "train(x, y, 10000)"
      ],
      "metadata": {
        "id": "sHKeW38t2w4p",
        "colab": {
          "base_uri": "https://localhost:8080/"
        },
        "outputId": "fe011fdb-eac4-4d7c-8447-cc344601e3e2"
      },
      "execution_count": 19,
      "outputs": [
        {
          "output_type": "stream",
          "name": "stdout",
          "text": [
            "Epoch: 0, Loss: 10.453071594238281\n",
            "Epoch: 100, Loss: 2.214897394180298\n",
            "Epoch: 200, Loss: 1.5005929470062256\n",
            "Epoch: 300, Loss: 1.2446670532226562\n",
            "Epoch: 400, Loss: 0.9041963815689087\n",
            "Epoch: 500, Loss: 0.8813911080360413\n",
            "Epoch: 600, Loss: 0.7321356534957886\n",
            "Epoch: 700, Loss: 0.5720810294151306\n",
            "Epoch: 800, Loss: 0.42648574709892273\n",
            "Epoch: 900, Loss: 0.46503564715385437\n",
            "Epoch: 1000, Loss: 0.3856365978717804\n",
            "Epoch: 1100, Loss: 0.47888827323913574\n",
            "Epoch: 1200, Loss: 0.3263309597969055\n",
            "Epoch: 1300, Loss: 0.2964624762535095\n",
            "Epoch: 1400, Loss: 0.32006534934043884\n",
            "Epoch: 1500, Loss: 0.2963918447494507\n",
            "Epoch: 1600, Loss: 0.29907286167144775\n",
            "Epoch: 1700, Loss: 0.28135383129119873\n",
            "Epoch: 1800, Loss: 0.22392211854457855\n",
            "Epoch: 1900, Loss: 0.3539230227470398\n",
            "Epoch: 2000, Loss: 0.23849190771579742\n",
            "Epoch: 2100, Loss: 0.2545629143714905\n",
            "Epoch: 2200, Loss: 0.22775694727897644\n",
            "Epoch: 2300, Loss: 0.3332796096801758\n",
            "Epoch: 2400, Loss: 0.2699735164642334\n",
            "Epoch: 2500, Loss: 0.2886599898338318\n",
            "Epoch: 2600, Loss: 0.33926457166671753\n",
            "Epoch: 2700, Loss: 0.13823287189006805\n",
            "Epoch: 2800, Loss: 0.21680481731891632\n",
            "Epoch: 2900, Loss: 0.18555957078933716\n",
            "Epoch: 3000, Loss: 0.2407766580581665\n",
            "Epoch: 3100, Loss: 0.2311098724603653\n",
            "Epoch: 3200, Loss: 0.279934287071228\n",
            "Epoch: 3300, Loss: 0.17811276018619537\n",
            "Epoch: 3400, Loss: 0.17035280168056488\n",
            "Epoch: 3500, Loss: 0.1410626620054245\n",
            "Epoch: 3600, Loss: 0.1643982082605362\n",
            "Epoch: 3700, Loss: 0.14087963104248047\n",
            "Epoch: 3800, Loss: 0.18380095064640045\n",
            "Epoch: 3900, Loss: 0.14146959781646729\n",
            "Epoch: 4000, Loss: 0.14575529098510742\n",
            "Epoch: 4100, Loss: 0.13837546110153198\n",
            "Epoch: 4200, Loss: 0.14438600838184357\n",
            "Epoch: 4300, Loss: 0.14666526019573212\n",
            "Epoch: 4400, Loss: 0.11766647547483444\n",
            "Epoch: 4500, Loss: 0.18432508409023285\n",
            "Epoch: 4600, Loss: 0.1542193591594696\n",
            "Epoch: 4700, Loss: 0.14541691541671753\n",
            "Epoch: 4800, Loss: 0.10011046379804611\n",
            "Epoch: 4900, Loss: 0.13525068759918213\n",
            "Epoch: 5000, Loss: 0.12885484099388123\n",
            "Epoch: 5100, Loss: 0.14446978271007538\n",
            "Epoch: 5200, Loss: 0.12375570088624954\n",
            "Epoch: 5300, Loss: 0.13319812715053558\n",
            "Epoch: 5400, Loss: 0.10273722559213638\n",
            "Epoch: 5500, Loss: 0.09786609560251236\n",
            "Epoch: 5600, Loss: 0.13896797597408295\n",
            "Epoch: 5700, Loss: 0.15437451004981995\n",
            "Epoch: 5800, Loss: 0.15352734923362732\n",
            "Epoch: 5900, Loss: 0.12292812764644623\n",
            "Epoch: 6000, Loss: 0.12049258500337601\n",
            "Epoch: 6100, Loss: 0.13203169405460358\n",
            "Epoch: 6200, Loss: 0.15300552546977997\n",
            "Epoch: 6300, Loss: 0.11500368267297745\n",
            "Epoch: 6400, Loss: 0.1053084060549736\n",
            "Epoch: 6500, Loss: 0.11270543932914734\n",
            "Epoch: 6600, Loss: 0.1290704607963562\n",
            "Epoch: 6700, Loss: 0.14359313249588013\n",
            "Epoch: 6800, Loss: 0.09998108446598053\n",
            "Epoch: 6900, Loss: 0.1173284649848938\n",
            "Epoch: 7000, Loss: 0.10155083984136581\n",
            "Epoch: 7100, Loss: 0.09151864796876907\n",
            "Epoch: 7200, Loss: 0.09743483364582062\n",
            "Epoch: 7300, Loss: 0.11787963658571243\n",
            "Epoch: 7400, Loss: 0.11551614105701447\n",
            "Epoch: 7500, Loss: 0.1303010731935501\n",
            "Epoch: 7600, Loss: 0.13567174971103668\n",
            "Epoch: 7700, Loss: 0.10832925885915756\n",
            "Epoch: 7800, Loss: 0.1010320708155632\n",
            "Epoch: 7900, Loss: 0.12110316008329391\n",
            "Epoch: 8000, Loss: 0.11139266192913055\n",
            "Epoch: 8100, Loss: 0.09450298547744751\n",
            "Epoch: 8200, Loss: 0.10092614591121674\n",
            "Epoch: 8300, Loss: 0.12287122756242752\n",
            "Epoch: 8400, Loss: 0.10356798022985458\n",
            "Epoch: 8500, Loss: 0.1324644535779953\n",
            "Epoch: 8600, Loss: 0.09825964272022247\n",
            "Epoch: 8700, Loss: 0.10573718696832657\n",
            "Epoch: 8800, Loss: 0.11593987047672272\n",
            "Epoch: 8900, Loss: 0.09315107762813568\n",
            "Epoch: 9000, Loss: 0.10576038062572479\n",
            "Epoch: 9100, Loss: 0.09785198420286179\n",
            "Epoch: 9200, Loss: 0.0992918536067009\n",
            "Epoch: 9300, Loss: 0.10101516544818878\n",
            "Epoch: 9400, Loss: 0.10570450872182846\n",
            "Epoch: 9500, Loss: 0.12663015723228455\n",
            "Epoch: 9600, Loss: 0.11891426891088486\n",
            "Epoch: 9700, Loss: 0.10523569583892822\n",
            "Epoch: 9800, Loss: 0.09605932235717773\n",
            "Epoch: 9900, Loss: 0.12671776115894318\n"
          ]
        }
      ]
    },
    {
      "cell_type": "markdown",
      "source": [
        "The loss is about 0.09 after 10K epochs"
      ],
      "metadata": {
        "id": "J9Sti5BtU03d"
      }
    },
    {
      "cell_type": "markdown",
      "source": [
        "# Generate text"
      ],
      "metadata": {
        "id": "sSHVHX4J40eS"
      }
    },
    {
      "cell_type": "code",
      "source": [
        "def generate(model, prompt = '<start>', max_words = 10):\n",
        "    model.eval()\n",
        "    # Ensure prompt is a list of words\n",
        "    if isinstance(prompt, str):\n",
        "        prompt = [prompt]  # Convert to list if it's a single word\n",
        "\n",
        "    # Initialize generated sequence with the prompt\n",
        "    generated_words = prompt\n",
        "\n",
        "    # Convert prompt words to their corresponding indices\n",
        "    vocab = Tk.build_vocab()\n",
        "    stoi = vocab.get_stoi()\n",
        "    input_ids = [stoi[word] if word in stoi else stoi['<unk>'] for word in prompt]\n",
        "\n",
        "    # Convert list of input IDs into a tensor\n",
        "    input_tensor = torch.tensor(input_ids).unsqueeze(0)\n",
        "\n",
        "    for _ in range(max_words):\n",
        "        # Predict the next word\n",
        "        with torch.no_grad():\n",
        "            output = model(input_tensor)\n",
        "\n",
        "        # Get the last predicted set of logits and select the word with the highest score\n",
        "        logits = output[0, -1, :]\n",
        "        predicted_token_id = logits.argmax(dim=-1).item()\n",
        "        predicted_word = vocab.get_itos()[predicted_token_id]\n",
        "\n",
        "        # Break if the model generates an end token\n",
        "        if predicted_word == '<end>':\n",
        "            break\n",
        "\n",
        "        # Append the predicted word to the generated sequence and update the input tensor\n",
        "        generated_words.append(predicted_word)\n",
        "        input_ids.append(predicted_token_id)\n",
        "        input_tensor = torch.tensor([input_ids])  # Update the input for the next prediction\n",
        "\n",
        "    # Join the list of generated words into a single string\n",
        "    generated_text = ' '.join(generated_words).replace('<start>', '').strip()\n",
        "    return generated_text"
      ],
      "metadata": {
        "id": "TYOkVHDV5TKf"
      },
      "execution_count": 25,
      "outputs": []
    },
    {
      "cell_type": "code",
      "source": [
        "generate(model, prompt = '<start>', max_words = 25)"
      ],
      "metadata": {
        "colab": {
          "base_uri": "https://localhost:8080/",
          "height": 36
        },
        "id": "xcA1Lu4j6Eq-",
        "outputId": "3929e42f-5d90-4df2-870a-dc1a20e35a66"
      },
      "execution_count": 26,
      "outputs": [
        {
          "output_type": "execute_result",
          "data": {
            "text/plain": [
              "'biography that intertwines the story of a life and a multi-player memoir with particular events and turning points recalled by those , including me ,'"
            ],
            "application/vnd.google.colaboratory.intrinsic+json": {
              "type": "string"
            }
          },
          "metadata": {},
          "execution_count": 26
        }
      ]
    },
    {
      "cell_type": "markdown",
      "source": [
        "* Note the model has memorized the sentence from the training set. Given the start token, if your implementation reproduce a sentence as is in the training set, then your implementation is likely to be correct.\n",
        "* Suppose the prompt is `<start> best known`, then we expect the model to produce the first sentence as is"
      ],
      "metadata": {
        "id": "sTaqoJ_2VDDa"
      }
    },
    {
      "cell_type": "code",
      "source": [
        "generate(model, prompt = ['<start>','best','known'], max_words = 25)"
      ],
      "metadata": {
        "colab": {
          "base_uri": "https://localhost:8080/",
          "height": 36
        },
        "outputId": "4dd6ea66-1af2-4c64-9b69-24455e053286",
        "id": "2N_Shu7TXjAT"
      },
      "execution_count": 27,
      "outputs": [
        {
          "output_type": "execute_result",
          "data": {
            "text/plain": [
              "'best known for the invention of error correcting codes , he was a true polymath who applied his mathematical and problem-solving skills to numerous disciplines .'"
            ],
            "application/vnd.google.colaboratory.intrinsic+json": {
              "type": "string"
            }
          },
          "metadata": {},
          "execution_count": 27
        }
      ]
    },
    {
      "cell_type": "markdown",
      "source": [
        "* Change the prompt"
      ],
      "metadata": {
        "id": "P1hK47T5X2fY"
      }
    },
    {
      "cell_type": "code",
      "source": [
        "generate(model, prompt = ['<start>','reflecting','on'], max_words = 25)"
      ],
      "metadata": {
        "colab": {
          "base_uri": "https://localhost:8080/",
          "height": 36
        },
        "outputId": "ea1e6d7a-ac90-4d8d-b6d2-2abc6a4eab49",
        "id": "Q6_WM1K2X7qZ"
      },
      "execution_count": 28,
      "outputs": [
        {
          "output_type": "execute_result",
          "data": {
            "text/plain": [
              "'reflecting on the significant benefits i received from hamming , i decided to develop a tribute to his legacy . there has not been a previous'"
            ],
            "application/vnd.google.colaboratory.intrinsic+json": {
              "type": "string"
            }
          },
          "metadata": {},
          "execution_count": 28
        }
      ]
    }
  ]
}